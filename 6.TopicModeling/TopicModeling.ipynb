{
  "nbformat": 4,
  "nbformat_minor": 0,
  "metadata": {
    "colab": {
      "provenance": []
    },
    "kernelspec": {
      "name": "python3",
      "display_name": "Python 3"
    },
    "language_info": {
      "name": "python"
    }
  },
  "cells": [
    {
      "cell_type": "code",
      "source": [
        "import numpy as np\n",
        "import pandas as pd"
      ],
      "metadata": {
        "id": "OmnjemEErw1d"
      },
      "execution_count": null,
      "outputs": []
    },
    {
      "cell_type": "code",
      "source": [
        "!pip install pyLDAvis"
      ],
      "metadata": {
        "colab": {
          "base_uri": "https://localhost:8080/"
        },
        "id": "MxMhvC7uvAL6",
        "outputId": "d69302b7-46ad-41cf-dae6-b45571a0ca20"
      },
      "execution_count": null,
      "outputs": [
        {
          "output_type": "stream",
          "name": "stdout",
          "text": [
            "Requirement already satisfied: pyLDAvis in /usr/local/lib/python3.10/dist-packages (3.4.1)\n",
            "Requirement already satisfied: numpy>=1.24.2 in /usr/local/lib/python3.10/dist-packages (from pyLDAvis) (1.25.2)\n",
            "Requirement already satisfied: scipy in /usr/local/lib/python3.10/dist-packages (from pyLDAvis) (1.10.1)\n",
            "Requirement already satisfied: pandas>=2.0.0 in /usr/local/lib/python3.10/dist-packages (from pyLDAvis) (2.0.3)\n",
            "Requirement already satisfied: joblib>=1.2.0 in /usr/local/lib/python3.10/dist-packages (from pyLDAvis) (1.3.2)\n",
            "Requirement already satisfied: jinja2 in /usr/local/lib/python3.10/dist-packages (from pyLDAvis) (3.1.2)\n",
            "Requirement already satisfied: numexpr in /usr/local/lib/python3.10/dist-packages (from pyLDAvis) (2.8.5)\n",
            "Requirement already satisfied: funcy in /usr/local/lib/python3.10/dist-packages (from pyLDAvis) (2.0)\n",
            "Requirement already satisfied: scikit-learn>=1.0.0 in /usr/local/lib/python3.10/dist-packages (from pyLDAvis) (1.2.2)\n",
            "Requirement already satisfied: gensim in /usr/local/lib/python3.10/dist-packages (from pyLDAvis) (4.3.1)\n",
            "Requirement already satisfied: setuptools in /usr/local/lib/python3.10/dist-packages (from pyLDAvis) (67.7.2)\n",
            "Requirement already satisfied: python-dateutil>=2.8.2 in /usr/local/lib/python3.10/dist-packages (from pandas>=2.0.0->pyLDAvis) (2.8.2)\n",
            "Requirement already satisfied: pytz>=2020.1 in /usr/local/lib/python3.10/dist-packages (from pandas>=2.0.0->pyLDAvis) (2023.3)\n",
            "Requirement already satisfied: tzdata>=2022.1 in /usr/local/lib/python3.10/dist-packages (from pandas>=2.0.0->pyLDAvis) (2023.3)\n",
            "Requirement already satisfied: threadpoolctl>=2.0.0 in /usr/local/lib/python3.10/dist-packages (from scikit-learn>=1.0.0->pyLDAvis) (3.2.0)\n",
            "Requirement already satisfied: smart-open>=1.8.1 in /usr/local/lib/python3.10/dist-packages (from gensim->pyLDAvis) (6.3.0)\n",
            "Requirement already satisfied: MarkupSafe>=2.0 in /usr/local/lib/python3.10/dist-packages (from jinja2->pyLDAvis) (2.1.3)\n",
            "Requirement already satisfied: six>=1.5 in /usr/local/lib/python3.10/dist-packages (from python-dateutil>=2.8.2->pandas>=2.0.0->pyLDAvis) (1.16.0)\n"
          ]
        }
      ]
    },
    {
      "cell_type": "code",
      "source": [
        "import gensim\n",
        "import pyLDAvis.gensim\n",
        "pyLDAvis.enable_notebook()\n",
        "import warnings\n",
        "warnings.filterwarnings(\"ignore\", category=DeprecationWarning)"
      ],
      "metadata": {
        "id": "oik460aNvCmm"
      },
      "execution_count": null,
      "outputs": []
    },
    {
      "cell_type": "code",
      "source": [
        "!pip install --upgrade pythainlp"
      ],
      "metadata": {
        "colab": {
          "base_uri": "https://localhost:8080/"
        },
        "id": "lOA6kRgjvE_E",
        "outputId": "c07b792a-2dab-4ae7-8773-838ae39141f4"
      },
      "execution_count": null,
      "outputs": [
        {
          "output_type": "stream",
          "name": "stdout",
          "text": [
            "Requirement already satisfied: pythainlp in /usr/local/lib/python3.10/dist-packages (4.0.2)\n",
            "Requirement already satisfied: requests>=2.22.0 in /usr/local/lib/python3.10/dist-packages (from pythainlp) (2.31.0)\n",
            "Requirement already satisfied: charset-normalizer<4,>=2 in /usr/local/lib/python3.10/dist-packages (from requests>=2.22.0->pythainlp) (3.2.0)\n",
            "Requirement already satisfied: idna<4,>=2.5 in /usr/local/lib/python3.10/dist-packages (from requests>=2.22.0->pythainlp) (3.4)\n",
            "Requirement already satisfied: urllib3<3,>=1.21.1 in /usr/local/lib/python3.10/dist-packages (from requests>=2.22.0->pythainlp) (2.0.4)\n",
            "Requirement already satisfied: certifi>=2017.4.17 in /usr/local/lib/python3.10/dist-packages (from requests>=2.22.0->pythainlp) (2023.7.22)\n"
          ]
        }
      ]
    },
    {
      "cell_type": "code",
      "source": [
        "import pythainlp"
      ],
      "metadata": {
        "id": "VIgBC2a7vGj3"
      },
      "execution_count": null,
      "outputs": []
    },
    {
      "cell_type": "code",
      "source": [
        "df = pd.read_excel('/content/drive/MyDrive/8101 Customer Analytics/TopicModeling.xlsx')"
      ],
      "metadata": {
        "id": "44w1Oo2AvIH0"
      },
      "execution_count": null,
      "outputs": []
    },
    {
      "cell_type": "code",
      "source": [
        "df.tail()"
      ],
      "metadata": {
        "colab": {
          "base_uri": "https://localhost:8080/",
          "height": 206
        },
        "id": "SomnryFavSmC",
        "outputId": "b7c5ab67-c58f-4f5e-c356-4151e5c59416"
      },
      "execution_count": null,
      "outputs": [
        {
          "output_type": "execute_result",
          "data": {
            "text/plain": [
              "    No.                                            Comment\n",
              "10   11  สร้างระบบสั่งเมนูล่วงหน้าออนไลน์รอ ไปถึงแล้วได...\n",
              "11   12  ความสะอาด ความหลากหลายของอาหาร และแต่ละสาขาควร...\n",
              "12   13  ไม่ต้องให้ขึ้นที่1แต่ให้ขายดีที่สุด... อย่างแข...\n",
              "13   14  เอางบโฆษณา มาแจกให้กินฟรีครับ ช่วงเวลาหนึ่ง คน...\n",
              "14   15  แตกแบรนด์ เก็บลูกค้าให้ครบทุก Segment\\nนำเข้าว..."
            ],
            "text/html": [
              "\n",
              "  <div id=\"df-6d99f829-a5a1-4d2e-85b3-f4e85870c5ba\" class=\"colab-df-container\">\n",
              "    <div>\n",
              "<style scoped>\n",
              "    .dataframe tbody tr th:only-of-type {\n",
              "        vertical-align: middle;\n",
              "    }\n",
              "\n",
              "    .dataframe tbody tr th {\n",
              "        vertical-align: top;\n",
              "    }\n",
              "\n",
              "    .dataframe thead th {\n",
              "        text-align: right;\n",
              "    }\n",
              "</style>\n",
              "<table border=\"1\" class=\"dataframe\">\n",
              "  <thead>\n",
              "    <tr style=\"text-align: right;\">\n",
              "      <th></th>\n",
              "      <th>No.</th>\n",
              "      <th>Comment</th>\n",
              "    </tr>\n",
              "  </thead>\n",
              "  <tbody>\n",
              "    <tr>\n",
              "      <th>10</th>\n",
              "      <td>11</td>\n",
              "      <td>สร้างระบบสั่งเมนูล่วงหน้าออนไลน์รอ ไปถึงแล้วได...</td>\n",
              "    </tr>\n",
              "    <tr>\n",
              "      <th>11</th>\n",
              "      <td>12</td>\n",
              "      <td>ความสะอาด ความหลากหลายของอาหาร และแต่ละสาขาควร...</td>\n",
              "    </tr>\n",
              "    <tr>\n",
              "      <th>12</th>\n",
              "      <td>13</td>\n",
              "      <td>ไม่ต้องให้ขึ้นที่1แต่ให้ขายดีที่สุด... อย่างแข...</td>\n",
              "    </tr>\n",
              "    <tr>\n",
              "      <th>13</th>\n",
              "      <td>14</td>\n",
              "      <td>เอางบโฆษณา มาแจกให้กินฟรีครับ ช่วงเวลาหนึ่ง คน...</td>\n",
              "    </tr>\n",
              "    <tr>\n",
              "      <th>14</th>\n",
              "      <td>15</td>\n",
              "      <td>แตกแบรนด์ เก็บลูกค้าให้ครบทุก Segment\\nนำเข้าว...</td>\n",
              "    </tr>\n",
              "  </tbody>\n",
              "</table>\n",
              "</div>\n",
              "    <div class=\"colab-df-buttons\">\n",
              "\n",
              "  <div class=\"colab-df-container\">\n",
              "    <button class=\"colab-df-convert\" onclick=\"convertToInteractive('df-6d99f829-a5a1-4d2e-85b3-f4e85870c5ba')\"\n",
              "            title=\"Convert this dataframe to an interactive table.\"\n",
              "            style=\"display:none;\">\n",
              "\n",
              "  <svg xmlns=\"http://www.w3.org/2000/svg\" height=\"24px\" viewBox=\"0 -960 960 960\">\n",
              "    <path d=\"M120-120v-720h720v720H120Zm60-500h600v-160H180v160Zm220 220h160v-160H400v160Zm0 220h160v-160H400v160ZM180-400h160v-160H180v160Zm440 0h160v-160H620v160ZM180-180h160v-160H180v160Zm440 0h160v-160H620v160Z\"/>\n",
              "  </svg>\n",
              "    </button>\n",
              "\n",
              "  <style>\n",
              "    .colab-df-container {\n",
              "      display:flex;\n",
              "      gap: 12px;\n",
              "    }\n",
              "\n",
              "    .colab-df-convert {\n",
              "      background-color: #E8F0FE;\n",
              "      border: none;\n",
              "      border-radius: 50%;\n",
              "      cursor: pointer;\n",
              "      display: none;\n",
              "      fill: #1967D2;\n",
              "      height: 32px;\n",
              "      padding: 0 0 0 0;\n",
              "      width: 32px;\n",
              "    }\n",
              "\n",
              "    .colab-df-convert:hover {\n",
              "      background-color: #E2EBFA;\n",
              "      box-shadow: 0px 1px 2px rgba(60, 64, 67, 0.3), 0px 1px 3px 1px rgba(60, 64, 67, 0.15);\n",
              "      fill: #174EA6;\n",
              "    }\n",
              "\n",
              "    .colab-df-buttons div {\n",
              "      margin-bottom: 4px;\n",
              "    }\n",
              "\n",
              "    [theme=dark] .colab-df-convert {\n",
              "      background-color: #3B4455;\n",
              "      fill: #D2E3FC;\n",
              "    }\n",
              "\n",
              "    [theme=dark] .colab-df-convert:hover {\n",
              "      background-color: #434B5C;\n",
              "      box-shadow: 0px 1px 3px 1px rgba(0, 0, 0, 0.15);\n",
              "      filter: drop-shadow(0px 1px 2px rgba(0, 0, 0, 0.3));\n",
              "      fill: #FFFFFF;\n",
              "    }\n",
              "  </style>\n",
              "\n",
              "    <script>\n",
              "      const buttonEl =\n",
              "        document.querySelector('#df-6d99f829-a5a1-4d2e-85b3-f4e85870c5ba button.colab-df-convert');\n",
              "      buttonEl.style.display =\n",
              "        google.colab.kernel.accessAllowed ? 'block' : 'none';\n",
              "\n",
              "      async function convertToInteractive(key) {\n",
              "        const element = document.querySelector('#df-6d99f829-a5a1-4d2e-85b3-f4e85870c5ba');\n",
              "        const dataTable =\n",
              "          await google.colab.kernel.invokeFunction('convertToInteractive',\n",
              "                                                    [key], {});\n",
              "        if (!dataTable) return;\n",
              "\n",
              "        const docLinkHtml = 'Like what you see? Visit the ' +\n",
              "          '<a target=\"_blank\" href=https://colab.research.google.com/notebooks/data_table.ipynb>data table notebook</a>'\n",
              "          + ' to learn more about interactive tables.';\n",
              "        element.innerHTML = '';\n",
              "        dataTable['output_type'] = 'display_data';\n",
              "        await google.colab.output.renderOutput(dataTable, element);\n",
              "        const docLink = document.createElement('div');\n",
              "        docLink.innerHTML = docLinkHtml;\n",
              "        element.appendChild(docLink);\n",
              "      }\n",
              "    </script>\n",
              "  </div>\n",
              "\n",
              "\n",
              "<div id=\"df-20f51159-9eb2-4961-837f-82f6998594ff\">\n",
              "  <button class=\"colab-df-quickchart\" onclick=\"quickchart('df-20f51159-9eb2-4961-837f-82f6998594ff')\"\n",
              "            title=\"Suggest charts.\"\n",
              "            style=\"display:none;\">\n",
              "\n",
              "<svg xmlns=\"http://www.w3.org/2000/svg\" height=\"24px\"viewBox=\"0 0 24 24\"\n",
              "     width=\"24px\">\n",
              "    <g>\n",
              "        <path d=\"M19 3H5c-1.1 0-2 .9-2 2v14c0 1.1.9 2 2 2h14c1.1 0 2-.9 2-2V5c0-1.1-.9-2-2-2zM9 17H7v-7h2v7zm4 0h-2V7h2v10zm4 0h-2v-4h2v4z\"/>\n",
              "    </g>\n",
              "</svg>\n",
              "  </button>\n",
              "\n",
              "<style>\n",
              "  .colab-df-quickchart {\n",
              "    background-color: #E8F0FE;\n",
              "    border: none;\n",
              "    border-radius: 50%;\n",
              "    cursor: pointer;\n",
              "    display: none;\n",
              "    fill: #1967D2;\n",
              "    height: 32px;\n",
              "    padding: 0 0 0 0;\n",
              "    width: 32px;\n",
              "  }\n",
              "\n",
              "  .colab-df-quickchart:hover {\n",
              "    background-color: #E2EBFA;\n",
              "    box-shadow: 0px 1px 2px rgba(60, 64, 67, 0.3), 0px 1px 3px 1px rgba(60, 64, 67, 0.15);\n",
              "    fill: #174EA6;\n",
              "  }\n",
              "\n",
              "  [theme=dark] .colab-df-quickchart {\n",
              "    background-color: #3B4455;\n",
              "    fill: #D2E3FC;\n",
              "  }\n",
              "\n",
              "  [theme=dark] .colab-df-quickchart:hover {\n",
              "    background-color: #434B5C;\n",
              "    box-shadow: 0px 1px 3px 1px rgba(0, 0, 0, 0.15);\n",
              "    filter: drop-shadow(0px 1px 2px rgba(0, 0, 0, 0.3));\n",
              "    fill: #FFFFFF;\n",
              "  }\n",
              "</style>\n",
              "\n",
              "  <script>\n",
              "    async function quickchart(key) {\n",
              "      const charts = await google.colab.kernel.invokeFunction(\n",
              "          'suggestCharts', [key], {});\n",
              "    }\n",
              "    (() => {\n",
              "      let quickchartButtonEl =\n",
              "        document.querySelector('#df-20f51159-9eb2-4961-837f-82f6998594ff button');\n",
              "      quickchartButtonEl.style.display =\n",
              "        google.colab.kernel.accessAllowed ? 'block' : 'none';\n",
              "    })();\n",
              "  </script>\n",
              "</div>\n",
              "    </div>\n",
              "  </div>\n"
            ]
          },
          "metadata": {},
          "execution_count": 89
        }
      ]
    },
    {
      "cell_type": "markdown",
      "source": [
        "#Tokenize\n"
      ],
      "metadata": {
        "id": "wdXxBIRvnhsp"
      }
    },
    {
      "cell_type": "code",
      "source": [
        "stopwords = list(pythainlp.corpus.thai_stopwords())"
      ],
      "metadata": {
        "id": "i1r0k0skvoGz"
      },
      "execution_count": null,
      "outputs": []
    },
    {
      "cell_type": "code",
      "source": [
        "removed_words = ['',' ','  ','\\n', '(', ')','-','=',' ','/','.']"
      ],
      "metadata": {
        "id": "_cHpGd5Wvr12"
      },
      "execution_count": null,
      "outputs": []
    },
    {
      "cell_type": "code",
      "source": [
        "screening_words = stopwords + removed_words"
      ],
      "metadata": {
        "id": "LHeP91oLv1X1"
      },
      "execution_count": null,
      "outputs": []
    },
    {
      "cell_type": "code",
      "source": [
        "def tokenize_with_space(sentence):\n",
        "  merged = ''\n",
        "  words = pythainlp.word_tokenize(str(sentence), engine='newmm')\n",
        "  for word in words:\n",
        "    if word not in screening_words:\n",
        "      merged = merged + ',' + word\n",
        "  return merged[1:]"
      ],
      "metadata": {
        "id": "neusGjsvv2x1"
      },
      "execution_count": null,
      "outputs": []
    },
    {
      "cell_type": "code",
      "source": [
        "df['Comment_token'] = df['Comment'].apply(lambda x: tokenize_with_space(x))"
      ],
      "metadata": {
        "id": "B64pnKSHv4P0"
      },
      "execution_count": null,
      "outputs": []
    },
    {
      "cell_type": "code",
      "source": [
        "df.head()"
      ],
      "metadata": {
        "colab": {
          "base_uri": "https://localhost:8080/",
          "height": 206
        },
        "id": "eoV-w6GVv5Ej",
        "outputId": "04dd3108-a419-4338-add1-c6fc194221ed"
      },
      "execution_count": null,
      "outputs": [
        {
          "output_type": "execute_result",
          "data": {
            "text/plain": [
              "   No.                                            Comment  \\\n",
              "0    1  เปิด24ชม.\\nแบ่ง3ช่วงเวลา 3ธีม ตั้งชื่อตามมณฑล ...   \n",
              "1    2  เบื่อเรื่องการรอคิวที่นานเกินไป คือเข้าใจว่าต้...   \n",
              "2    3                     มีน้ำจิ้มให้เลือกมากกว่านี้ค่ะ   \n",
              "3    4  เป็นเบอร์1 แล้ว ก็มีวันร่วง มองที่ความยั่งยืนด...   \n",
              "4    5                     ทำน้ำซุปหมาล่าให้เค็มน้อยลงค่ะ   \n",
              "\n",
              "                                       Comment_token  \n",
              "0  24,ชม.,แบ่ง,3,ช่วงเวลา,3,ธีม,ตั้งชื่อ,มณฑล,เช้...  \n",
              "1  เบื่อ,เรื่อง,รอ,คิว,เกินไป,รอ,ร้าน,รอ,ก,ไก่,ล้...  \n",
              "2                                      น้ำจิ้ม,เลือก  \n",
              "3  เบอร์,1,ร่วง,ความยั่งยืน,ดีกว่า,เหมือน,mk,iber...  \n",
              "4                     ทำ,น้ำ,ซุป,หมา,ล่า,เค็ม,น้อยลง  "
            ],
            "text/html": [
              "\n",
              "  <div id=\"df-dd66c698-dd65-4f8f-b8d8-eba601304aa6\" class=\"colab-df-container\">\n",
              "    <div>\n",
              "<style scoped>\n",
              "    .dataframe tbody tr th:only-of-type {\n",
              "        vertical-align: middle;\n",
              "    }\n",
              "\n",
              "    .dataframe tbody tr th {\n",
              "        vertical-align: top;\n",
              "    }\n",
              "\n",
              "    .dataframe thead th {\n",
              "        text-align: right;\n",
              "    }\n",
              "</style>\n",
              "<table border=\"1\" class=\"dataframe\">\n",
              "  <thead>\n",
              "    <tr style=\"text-align: right;\">\n",
              "      <th></th>\n",
              "      <th>No.</th>\n",
              "      <th>Comment</th>\n",
              "      <th>Comment_token</th>\n",
              "    </tr>\n",
              "  </thead>\n",
              "  <tbody>\n",
              "    <tr>\n",
              "      <th>0</th>\n",
              "      <td>1</td>\n",
              "      <td>เปิด24ชม.\\nแบ่ง3ช่วงเวลา 3ธีม ตั้งชื่อตามมณฑล ...</td>\n",
              "      <td>24,ชม.,แบ่ง,3,ช่วงเวลา,3,ธีม,ตั้งชื่อ,มณฑล,เช้...</td>\n",
              "    </tr>\n",
              "    <tr>\n",
              "      <th>1</th>\n",
              "      <td>2</td>\n",
              "      <td>เบื่อเรื่องการรอคิวที่นานเกินไป คือเข้าใจว่าต้...</td>\n",
              "      <td>เบื่อ,เรื่อง,รอ,คิว,เกินไป,รอ,ร้าน,รอ,ก,ไก่,ล้...</td>\n",
              "    </tr>\n",
              "    <tr>\n",
              "      <th>2</th>\n",
              "      <td>3</td>\n",
              "      <td>มีน้ำจิ้มให้เลือกมากกว่านี้ค่ะ</td>\n",
              "      <td>น้ำจิ้ม,เลือก</td>\n",
              "    </tr>\n",
              "    <tr>\n",
              "      <th>3</th>\n",
              "      <td>4</td>\n",
              "      <td>เป็นเบอร์1 แล้ว ก็มีวันร่วง มองที่ความยั่งยืนด...</td>\n",
              "      <td>เบอร์,1,ร่วง,ความยั่งยืน,ดีกว่า,เหมือน,mk,iber...</td>\n",
              "    </tr>\n",
              "    <tr>\n",
              "      <th>4</th>\n",
              "      <td>5</td>\n",
              "      <td>ทำน้ำซุปหมาล่าให้เค็มน้อยลงค่ะ</td>\n",
              "      <td>ทำ,น้ำ,ซุป,หมา,ล่า,เค็ม,น้อยลง</td>\n",
              "    </tr>\n",
              "  </tbody>\n",
              "</table>\n",
              "</div>\n",
              "    <div class=\"colab-df-buttons\">\n",
              "\n",
              "  <div class=\"colab-df-container\">\n",
              "    <button class=\"colab-df-convert\" onclick=\"convertToInteractive('df-dd66c698-dd65-4f8f-b8d8-eba601304aa6')\"\n",
              "            title=\"Convert this dataframe to an interactive table.\"\n",
              "            style=\"display:none;\">\n",
              "\n",
              "  <svg xmlns=\"http://www.w3.org/2000/svg\" height=\"24px\" viewBox=\"0 -960 960 960\">\n",
              "    <path d=\"M120-120v-720h720v720H120Zm60-500h600v-160H180v160Zm220 220h160v-160H400v160Zm0 220h160v-160H400v160ZM180-400h160v-160H180v160Zm440 0h160v-160H620v160ZM180-180h160v-160H180v160Zm440 0h160v-160H620v160Z\"/>\n",
              "  </svg>\n",
              "    </button>\n",
              "\n",
              "  <style>\n",
              "    .colab-df-container {\n",
              "      display:flex;\n",
              "      gap: 12px;\n",
              "    }\n",
              "\n",
              "    .colab-df-convert {\n",
              "      background-color: #E8F0FE;\n",
              "      border: none;\n",
              "      border-radius: 50%;\n",
              "      cursor: pointer;\n",
              "      display: none;\n",
              "      fill: #1967D2;\n",
              "      height: 32px;\n",
              "      padding: 0 0 0 0;\n",
              "      width: 32px;\n",
              "    }\n",
              "\n",
              "    .colab-df-convert:hover {\n",
              "      background-color: #E2EBFA;\n",
              "      box-shadow: 0px 1px 2px rgba(60, 64, 67, 0.3), 0px 1px 3px 1px rgba(60, 64, 67, 0.15);\n",
              "      fill: #174EA6;\n",
              "    }\n",
              "\n",
              "    .colab-df-buttons div {\n",
              "      margin-bottom: 4px;\n",
              "    }\n",
              "\n",
              "    [theme=dark] .colab-df-convert {\n",
              "      background-color: #3B4455;\n",
              "      fill: #D2E3FC;\n",
              "    }\n",
              "\n",
              "    [theme=dark] .colab-df-convert:hover {\n",
              "      background-color: #434B5C;\n",
              "      box-shadow: 0px 1px 3px 1px rgba(0, 0, 0, 0.15);\n",
              "      filter: drop-shadow(0px 1px 2px rgba(0, 0, 0, 0.3));\n",
              "      fill: #FFFFFF;\n",
              "    }\n",
              "  </style>\n",
              "\n",
              "    <script>\n",
              "      const buttonEl =\n",
              "        document.querySelector('#df-dd66c698-dd65-4f8f-b8d8-eba601304aa6 button.colab-df-convert');\n",
              "      buttonEl.style.display =\n",
              "        google.colab.kernel.accessAllowed ? 'block' : 'none';\n",
              "\n",
              "      async function convertToInteractive(key) {\n",
              "        const element = document.querySelector('#df-dd66c698-dd65-4f8f-b8d8-eba601304aa6');\n",
              "        const dataTable =\n",
              "          await google.colab.kernel.invokeFunction('convertToInteractive',\n",
              "                                                    [key], {});\n",
              "        if (!dataTable) return;\n",
              "\n",
              "        const docLinkHtml = 'Like what you see? Visit the ' +\n",
              "          '<a target=\"_blank\" href=https://colab.research.google.com/notebooks/data_table.ipynb>data table notebook</a>'\n",
              "          + ' to learn more about interactive tables.';\n",
              "        element.innerHTML = '';\n",
              "        dataTable['output_type'] = 'display_data';\n",
              "        await google.colab.output.renderOutput(dataTable, element);\n",
              "        const docLink = document.createElement('div');\n",
              "        docLink.innerHTML = docLinkHtml;\n",
              "        element.appendChild(docLink);\n",
              "      }\n",
              "    </script>\n",
              "  </div>\n",
              "\n",
              "\n",
              "<div id=\"df-3fa232a4-213d-4d09-9af6-8519ed82520b\">\n",
              "  <button class=\"colab-df-quickchart\" onclick=\"quickchart('df-3fa232a4-213d-4d09-9af6-8519ed82520b')\"\n",
              "            title=\"Suggest charts.\"\n",
              "            style=\"display:none;\">\n",
              "\n",
              "<svg xmlns=\"http://www.w3.org/2000/svg\" height=\"24px\"viewBox=\"0 0 24 24\"\n",
              "     width=\"24px\">\n",
              "    <g>\n",
              "        <path d=\"M19 3H5c-1.1 0-2 .9-2 2v14c0 1.1.9 2 2 2h14c1.1 0 2-.9 2-2V5c0-1.1-.9-2-2-2zM9 17H7v-7h2v7zm4 0h-2V7h2v10zm4 0h-2v-4h2v4z\"/>\n",
              "    </g>\n",
              "</svg>\n",
              "  </button>\n",
              "\n",
              "<style>\n",
              "  .colab-df-quickchart {\n",
              "    background-color: #E8F0FE;\n",
              "    border: none;\n",
              "    border-radius: 50%;\n",
              "    cursor: pointer;\n",
              "    display: none;\n",
              "    fill: #1967D2;\n",
              "    height: 32px;\n",
              "    padding: 0 0 0 0;\n",
              "    width: 32px;\n",
              "  }\n",
              "\n",
              "  .colab-df-quickchart:hover {\n",
              "    background-color: #E2EBFA;\n",
              "    box-shadow: 0px 1px 2px rgba(60, 64, 67, 0.3), 0px 1px 3px 1px rgba(60, 64, 67, 0.15);\n",
              "    fill: #174EA6;\n",
              "  }\n",
              "\n",
              "  [theme=dark] .colab-df-quickchart {\n",
              "    background-color: #3B4455;\n",
              "    fill: #D2E3FC;\n",
              "  }\n",
              "\n",
              "  [theme=dark] .colab-df-quickchart:hover {\n",
              "    background-color: #434B5C;\n",
              "    box-shadow: 0px 1px 3px 1px rgba(0, 0, 0, 0.15);\n",
              "    filter: drop-shadow(0px 1px 2px rgba(0, 0, 0, 0.3));\n",
              "    fill: #FFFFFF;\n",
              "  }\n",
              "</style>\n",
              "\n",
              "  <script>\n",
              "    async function quickchart(key) {\n",
              "      const charts = await google.colab.kernel.invokeFunction(\n",
              "          'suggestCharts', [key], {});\n",
              "    }\n",
              "    (() => {\n",
              "      let quickchartButtonEl =\n",
              "        document.querySelector('#df-3fa232a4-213d-4d09-9af6-8519ed82520b button');\n",
              "      quickchartButtonEl.style.display =\n",
              "        google.colab.kernel.accessAllowed ? 'block' : 'none';\n",
              "    })();\n",
              "  </script>\n",
              "</div>\n",
              "    </div>\n",
              "  </div>\n"
            ]
          },
          "metadata": {},
          "execution_count": 95
        }
      ]
    },
    {
      "cell_type": "markdown",
      "source": [
        "#CREATE DICTIONNARY"
      ],
      "metadata": {
        "id": "xUiriTPQvnsz"
      }
    },
    {
      "cell_type": "code",
      "source": [
        "documents = df['Comment_token'].to_list()\n",
        "texts = [[text for text in doc.split(',')] for doc in documents]\n",
        "dictionary = gensim.corpora.Dictionary(texts)"
      ],
      "metadata": {
        "id": "XbvT5TkzwO0c"
      },
      "execution_count": null,
      "outputs": []
    },
    {
      "cell_type": "code",
      "source": [
        "print(dictionary.token2id.keys())"
      ],
      "metadata": {
        "colab": {
          "base_uri": "https://localhost:8080/"
        },
        "id": "aWstW5hmwP4i",
        "outputId": "7d33718e-b262-48ec-d9fe-d1100813d817"
      },
      "execution_count": null,
      "outputs": [
        {
          "output_type": "stream",
          "name": "stdout",
          "text": [
            "dict_keys(['%', '24', '3', '30', 'MK', 'ขาย', 'ความหลากหลาย', 'ชนะ', 'ชม.', 'ช่วงเวลา', 'ตั้งชื่อ', 'ตี้', 'ต่างกัน', 'ธีม', 'บ่าย', 'ปักกิ่ง', 'มณฑล', 'ยี่', 'รูป', 'ร้าน', 'หัวค่ำ', 'อารมณ์', 'อาหาร', 'เช้า', 'เซียงไฮ้', 'เทคโน', 'เวลาเปิด', 'เสฉวน', 'แบ่ง', 'แสง', 'โล', 'ก', 'กระจาย', 'กระจุก', 'คน', 'คิว', 'จา', 'ตัว', 'ทาน', 'รอ', 'ล้าน', 'สาขา', 'อี้', 'เกินไป', 'เค้า', 'เดี๋ยวนี้', 'เบื่อ', 'เรื่อง', 'เหมือนกัน', 'แทน', 'ไก่', 'น้ำจิ้ม', 'เลือก', '1', 'brand', 'iberry', 'mk', 'segment', 'ความยั่งยืน', 'ดีกว่า', 'ร่วง', 'ออกมา', 'เบอร์', 'เหมือน', 'แตก', 'ซุป', 'ทำ', 'น้อยลง', 'น้ำ', 'ล่า', 'หมา', 'เค็ม', 'ความสะอาด', 'ชอบ', 'บริการ', 'บางประการ', 'มาตรฐาน', 'อีกแล้ว', 'ใจ', 'จอง', 'บุฟเฟต์', 'ปี', 'ออนไลน์', 'ตัวเอง', 'ต้นทุน', 'รักษา', 'ลด', 'วัตถุดิบ', 'อร่อย', 'ให้ได้', 'ความสะดวก', 'ที่จอดรถ', 'ที่นั่ง', 'ระบบ', 'ลูกค้า', 'สำหรับ', 'ค่าบริการ', 'นาที', 'ฟรี', 'เดือด', 'เตา', 'ขับรถ', 'จุ่ม', 'ล่วงหน้า', 'สร้าง', 'สั่ง', 'เมนู', 'ไม่ต้อง', 'กิน', 'ควรจะ', 'รสชาติ', 'สัก', '...', 'ing', 'market', 'การชนะ', 'การตลาด', 'ขายดี', 'คุณภาพ', 'คู่แข่ง', 'ชนะเลิศ', 'ดี', 'ดีจริง', 'นิค', 'บรรยากาศ', 'ผัก', 'ภาชนะ', 'ยืน', 'ลูกน้อง', 'วจะ', 'สว่าง', 'สะอาด', 'สาร', 'อบรม', 'ออ', 'เ', 'เก', 'แข่ง', 'แล้', 'โฆษณา', 'โปรโมต', 'ไร้', '\\u200b', '😁😊', '55', 'challenge', 'social', 'ข้อมูล', 'งบ', 'จ่าย', 'ฐาน', 'ดู', 'ตามกำลัง', 'ติดป้าย', 'ถูกใจ', 'ทำกำไร', 'ทำเป็น', 'บริจาค', 'ลงทะเบียน', 'ศรัทธา', 'หน้า', 'หาทาง', 'อวด', 'เงิน', 'เพ้อ', 'แจก', 'ไหล', 'Segment', 'ขยาย', 'จีน', 'นำเข้า', 'ประเทศ', 'เพื่อนบ้าน', 'แบรนด์'])\n"
          ]
        }
      ]
    },
    {
      "cell_type": "code",
      "source": [
        "gensim_corpus = [dictionary.doc2bow(text, allow_update=True) for text in texts]\n",
        "word_frequencies = [[(dictionary[id], frequence) for id, frequence in couple] for couple in gensim_corpus]"
      ],
      "metadata": {
        "id": "CTaaFvzlwSLX"
      },
      "execution_count": null,
      "outputs": []
    },
    {
      "cell_type": "markdown",
      "source": [
        "#TOPIC MODELING"
      ],
      "metadata": {
        "id": "Q64S0pSswno-"
      }
    },
    {
      "cell_type": "code",
      "source": [
        "num_topics = 4\n",
        "chunksize = 4000\n",
        "passes = 20\n",
        "iterations = 50\n",
        "eval_every = 1\n",
        "\n",
        "temp = dictionary[0]\n",
        "id2word = dictionary.id2token\n",
        "\n",
        "model = gensim.models.LdaModel(corpus=gensim_corpus, id2word=id2word, chunksize=chunksize, \\\n",
        "                              alpha='auto', eta='auto', \\\n",
        "                              iterations=iterations, num_topics=num_topics, \\\n",
        "                              passes=passes, eval_every=eval_every)"
      ],
      "metadata": {
        "id": "EFTLOTA9whVH"
      },
      "execution_count": null,
      "outputs": []
    },
    {
      "cell_type": "code",
      "source": [
        "vis = pyLDAvis.gensim.prepare(model, gensim_corpus, dictionary, mds='mmds')\n",
        "vis"
      ],
      "metadata": {
        "colab": {
          "base_uri": "https://localhost:8080/",
          "height": 916
        },
        "id": "OrHLdx3iwiUR",
        "outputId": "23154b18-935a-44e1-fb56-4f05b27a49f9"
      },
      "execution_count": null,
      "outputs": [
        {
          "output_type": "stream",
          "name": "stderr",
          "text": [
            "/usr/local/lib/python3.10/dist-packages/sklearn/manifold/_mds.py:299: FutureWarning: The default value of `normalized_stress` will change to `'auto'` in version 1.4. To suppress this warning, manually set the value of `normalized_stress`.\n",
            "  warnings.warn(\n"
          ]
        },
        {
          "output_type": "execute_result",
          "data": {
            "text/plain": [
              "PreparedData(topic_coordinates=              x         y  topics  cluster       Freq\n",
              "topic                                                \n",
              "2     -0.116995 -0.077018       1        1  39.958234\n",
              "3     -0.047157  0.126229       2        1  22.439855\n",
              "0      0.103112 -0.095546       3        1  22.014839\n",
              "1      0.061040  0.046334       4        1  15.587072, topic_info=          Term      Freq     Total Category  logprob  loglift\n",
              "142          ​  3.000000  3.000000  Default  30.0000  30.0000\n",
              "53           1  3.000000  3.000000  Default  29.0000  29.0000\n",
              "39          รอ  5.000000  5.000000  Default  28.0000  28.0000\n",
              "13         ธีม  2.000000  2.000000  Default  27.0000  27.0000\n",
              "2            3  2.000000  2.000000  Default  26.0000  26.0000\n",
              "..         ...       ...       ...      ...      ...      ...\n",
              "74      บริการ  0.590351  1.608934   Topic4  -4.1898   0.8561\n",
              "72   ความสะอาด  0.590437  2.167648   Topic4  -4.1896   0.5582\n",
              "53           1  0.590398  3.864329   Topic4  -4.1897  -0.0200\n",
              "89      ให้ได้  0.590397  1.741212   Topic4  -4.1897   0.7772\n",
              "94      ลูกค้า  0.590396  5.089631   Topic4  -4.1897  -0.2954\n",
              "\n",
              "[180 rows x 6 columns], token_table=      Topic      Freq     Term\n",
              "term                          \n",
              "0         3  0.883786        %\n",
              "112       2  0.588077      ...\n",
              "53        2  0.776332        1\n",
              "53        4  0.258777        1\n",
              "1         3  0.883786       24\n",
              "...     ...       ...      ...\n",
              "107       2  0.545633  ไม่ต้อง\n",
              "141       2  0.879812      ไร้\n",
              "166       1  0.788089      ไหล\n",
              "142       2  0.884431        ​\n",
              "143       2  0.879812       😁😊\n",
              "\n",
              "[158 rows x 3 columns], R=30, lambda_step=0.01, plot_opts={'xlab': 'PC1', 'ylab': 'PC2'}, topic_order=[3, 4, 1, 2])"
            ],
            "text/html": [
              "\n",
              "<link rel=\"stylesheet\" type=\"text/css\" href=\"https://cdn.jsdelivr.net/gh/bmabey/pyLDAvis@3.4.0/pyLDAvis/js/ldavis.v1.0.0.css\">\n",
              "\n",
              "\n",
              "<div id=\"ldavis_el35841339275333038885037773104\" style=\"background-color:white;\"></div>\n",
              "<script type=\"text/javascript\">\n",
              "\n",
              "var ldavis_el35841339275333038885037773104_data = {\"mdsDat\": {\"x\": [-0.11699525651033088, -0.0471571100014199, 0.10311209467422366, 0.06104027183752712], \"y\": [-0.07701758549543901, 0.12622896781438817, -0.09554556558886595, 0.046334183269916764], \"topics\": [1, 2, 3, 4], \"cluster\": [1, 1, 1, 1], \"Freq\": [39.95823396301247, 22.43985505265251, 22.014838577874748, 15.58707240646027]}, \"tinfo\": {\"Term\": [\"\\u200b\", \"1\", \"\\u0e23\\u0e2d\", \"\\u0e18\\u0e35\\u0e21\", \"3\", \"\\u0e2d\\u0e32\\u0e2b\\u0e32\\u0e23\", \"\\u0e14\\u0e35\", \"\\u0e41\\u0e15\\u0e01\", \"\\u0e27\\u0e31\\u0e15\\u0e16\\u0e38\\u0e14\\u0e34\\u0e1a\", \"\\u0e21\\u0e32\\u0e15\\u0e23\\u0e10\\u0e32\\u0e19\", \"\\u0e1a\\u0e48\\u0e32\\u0e22\", \"\\u0e40\\u0e0a\\u0e49\\u0e32\", \"\\u0e2b\\u0e31\\u0e27\\u0e04\\u0e48\\u0e33\", \"\\u0e23\\u0e2a\\u0e0a\\u0e32\\u0e15\\u0e34\", \"\\u0e04\\u0e27\\u0e32\\u0e21\\u0e2b\\u0e25\\u0e32\\u0e01\\u0e2b\\u0e25\\u0e32\\u0e22\", \"...\", \"\\u0e0a\\u0e19\\u0e30\", \"\\u0e02\\u0e32\\u0e22\", \"\\u0e15\\u0e31\\u0e27\\u0e40\\u0e2d\\u0e07\", \"\\u0e1a\\u0e23\\u0e34\\u0e01\\u0e32\\u0e23\", \"\\u0e0a\\u0e48\\u0e27\\u0e07\\u0e40\\u0e27\\u0e25\\u0e32\", \"\\u0e04\\u0e19\", \"\\u0e04\\u0e27\\u0e32\\u0e21\\u0e2a\\u0e30\\u0e2d\\u0e32\\u0e14\", \"\\u0e2a\\u0e32\\u0e02\\u0e32\", \"\\u0e25\\u0e39\\u0e01\\u0e04\\u0e49\\u0e32\", \"segment\", \"Segment\", \"mk\", \"\\u0e40\\u0e1a\\u0e2d\\u0e23\\u0e4c\", \"brand\", \"\\u0e23\\u0e2d\", \"\\u0e1f\\u0e23\\u0e35\", \"\\u0e41\\u0e08\\u0e01\", \"\\u0e08\\u0e48\\u0e32\\u0e22\", \"\\u0e17\\u0e32\\u0e19\", \"\\u0e25\\u0e48\\u0e27\\u0e07\\u0e2b\\u0e19\\u0e49\\u0e32\", \"\\u0e2a\\u0e31\\u0e48\\u0e07\", \"\\u0e23\\u0e30\\u0e1a\\u0e1a\", \"\\u0e17\\u0e33\", \"\\u0e04\\u0e19\", \"\\u0e25\\u0e39\\u0e01\\u0e04\\u0e49\\u0e32\", \"\\u0e40\\u0e07\\u0e34\\u0e19\", \"\\u0e1a\\u0e23\\u0e34\\u0e08\\u0e32\\u0e04\", \"\\u0e17\\u0e33\\u0e40\\u0e1b\\u0e47\\u0e19\", \"\\u0e40\\u0e1e\\u0e49\\u0e2d\", \"\\u0e15\\u0e34\\u0e14\\u0e1b\\u0e49\\u0e32\\u0e22\", \"\\u0e2b\\u0e19\\u0e49\\u0e32\", \"\\u0e14\\u0e39\", \"55\", \"\\u0e15\\u0e32\\u0e21\\u0e01\\u0e33\\u0e25\\u0e31\\u0e07\", \"challenge\", \"\\u0e2d\\u0e27\\u0e14\", \"\\u0e44\\u0e2b\\u0e25\", \"social\", \"\\u0e16\\u0e39\\u0e01\\u0e43\\u0e08\", \"\\u0e01\\u0e23\\u0e30\\u0e08\\u0e38\\u0e01\", \"\\u0e02\\u0e49\\u0e2d\\u0e21\\u0e39\\u0e25\", \"\\u0e2b\\u0e32\\u0e17\\u0e32\\u0e07\", \"\\u0e17\\u0e33\\u0e01\\u0e33\\u0e44\\u0e23\", \"\\u0e25\\u0e07\\u0e17\\u0e30\\u0e40\\u0e1a\\u0e35\\u0e22\\u0e19\", \"\\u0e04\\u0e34\\u0e27\", \"\\u0e2a\\u0e32\\u0e02\\u0e32\", \"\\u0e23\\u0e49\\u0e32\\u0e19\", \"\\u0e0a\\u0e48\\u0e27\\u0e07\\u0e40\\u0e27\\u0e25\\u0e32\", \"\\u0e08\\u0e2d\\u0e07\", \"\\u0e0a\\u0e2d\\u0e1a\", \"\\u0e2d\\u0e2d\\u0e19\\u0e44\\u0e25\\u0e19\\u0e4c\", \"\\u0e43\\u0e2b\\u0e49\\u0e44\\u0e14\\u0e49\", \"\\u0e01\\u0e34\\u0e19\", \"\\u0e40\\u0e2b\\u0e21\\u0e37\\u0e2d\\u0e19\\u0e01\\u0e31\\u0e19\", \"\\u0e42\\u0e06\\u0e29\\u0e13\\u0e32\", \"\\u200b\", \"\\u0e14\\u0e35\", \"1\", \"...\", \"\\u0e1b\\u0e35\", \"\\u0e1a\\u0e38\\u0e1f\\u0e40\\u0e1f\\u0e15\\u0e4c\", \"\\u0e02\\u0e32\\u0e22\\u0e14\\u0e35\", \"\\u0e41\\u0e25\\u0e49\", \"\\u0e04\\u0e38\\u0e13\\u0e20\\u0e32\\u0e1e\", \"\\u0e44\\u0e23\\u0e49\", \"\\u0e0a\\u0e19\\u0e30\\u0e40\\u0e25\\u0e34\\u0e28\", \"\\u0e25\\u0e39\\u0e01\\u0e19\\u0e49\\u0e2d\\u0e07\", \"\\ud83d\\ude01\\ud83d\\ude0a\", \"\\u0e1c\\u0e31\\u0e01\", \"\\u0e1a\\u0e23\\u0e23\\u0e22\\u0e32\\u0e01\\u0e32\\u0e28\", \"\\u0e04\\u0e39\\u0e48\\u0e41\\u0e02\\u0e48\\u0e07\", \"\\u0e2a\\u0e32\\u0e23\", \"market\", \"\\u0e20\\u0e32\\u0e0a\\u0e19\\u0e30\", \"\\u0e42\\u0e1b\\u0e23\\u0e42\\u0e21\\u0e15\", \"\\u0e41\\u0e02\\u0e48\\u0e07\", \"\\u0e40\\u0e01\", \"\\u0e2d\\u0e2d\", \"\\u0e2a\\u0e30\\u0e2d\\u0e32\\u0e14\", \"\\u0e01\\u0e32\\u0e23\\u0e0a\\u0e19\\u0e30\", \"\\u0e01\\u0e32\\u0e23\\u0e15\\u0e25\\u0e32\\u0e14\", \"\\u0e27\\u0e08\\u0e30\", \"\\u0e40\", \"\\u0e19\\u0e34\\u0e04\", \"\\u0e2a\\u0e27\\u0e48\\u0e32\\u0e07\", \"\\u0e0a\\u0e19\\u0e30\", \"\\u0e04\\u0e34\\u0e27\", \"\\u0e08\\u0e2d\\u0e07\", \"\\u0e2d\\u0e2d\\u0e19\\u0e44\\u0e25\\u0e19\\u0e4c\", \"\\u0e23\\u0e49\\u0e32\\u0e19\", \"\\u0e1a\\u0e23\\u0e34\\u0e01\\u0e32\\u0e23\", \"\\u0e25\\u0e39\\u0e01\\u0e04\\u0e49\\u0e32\", \"\\u0e15\\u0e31\\u0e27\\u0e40\\u0e2d\\u0e07\", \"\\u0e44\\u0e21\\u0e48\\u0e15\\u0e49\\u0e2d\\u0e07\", \"\\u0e18\\u0e35\\u0e21\", \"3\", \"\\u0e2d\\u0e32\\u0e2b\\u0e32\\u0e23\", \"\\u0e1a\\u0e48\\u0e32\\u0e22\", \"\\u0e40\\u0e0a\\u0e49\\u0e32\", \"\\u0e2b\\u0e31\\u0e27\\u0e04\\u0e48\\u0e33\", \"\\u0e23\\u0e2a\\u0e0a\\u0e32\\u0e15\\u0e34\", \"\\u0e04\\u0e27\\u0e32\\u0e21\\u0e2b\\u0e25\\u0e32\\u0e01\\u0e2b\\u0e25\\u0e32\\u0e22\", \"\\u0e19\\u0e49\\u0e33\\u0e08\\u0e34\\u0e49\\u0e21\", \"\\u0e40\\u0e25\\u0e37\\u0e2d\\u0e01\", \"\\u0e2d\\u0e32\\u0e23\\u0e21\\u0e13\\u0e4c\", \"MK\", \"\\u0e1b\\u0e31\\u0e01\\u0e01\\u0e34\\u0e48\\u0e07\", \"\\u0e42\\u0e25\", \"30\", \"\\u0e40\\u0e0b\\u0e35\\u0e22\\u0e07\\u0e44\\u0e2e\\u0e49\", \"\\u0e40\\u0e2a\\u0e09\\u0e27\\u0e19\", \"\\u0e40\\u0e17\\u0e04\\u0e42\\u0e19\", \"\\u0e15\\u0e35\\u0e49\", \"\\u0e21\\u0e13\\u0e11\\u0e25\", \"\\u0e22\\u0e35\\u0e48\", \"\\u0e15\\u0e48\\u0e32\\u0e07\\u0e01\\u0e31\\u0e19\", \"\\u0e23\\u0e39\\u0e1b\", \"\\u0e40\\u0e27\\u0e25\\u0e32\\u0e40\\u0e1b\\u0e34\\u0e14\", \"\\u0e15\\u0e31\\u0e49\\u0e07\\u0e0a\\u0e37\\u0e48\\u0e2d\", \"\\u0e41\\u0e2a\\u0e07\", \"24\", \"%\", \"\\u0e41\\u0e1a\\u0e48\\u0e07\", \"\\u0e0a\\u0e21.\", \"\\u0e0a\\u0e19\\u0e30\", \"\\u0e0a\\u0e48\\u0e27\\u0e07\\u0e40\\u0e27\\u0e25\\u0e32\", \"\\u0e2a\\u0e32\\u0e02\\u0e32\", \"\\u0e04\\u0e27\\u0e32\\u0e21\\u0e2a\\u0e30\\u0e2d\\u0e32\\u0e14\", \"\\u0e23\\u0e49\\u0e32\\u0e19\", \"\\u0e02\\u0e32\\u0e22\", \"\\u0e41\\u0e15\\u0e01\", \"\\u0e27\\u0e31\\u0e15\\u0e16\\u0e38\\u0e14\\u0e34\\u0e1a\", \"segment\", \"Segment\", \"mk\", \"\\u0e40\\u0e1a\\u0e2d\\u0e23\\u0e4c\", \"brand\", \"iberry\", \"\\u0e2d\\u0e2d\\u0e01\\u0e21\\u0e32\", \"\\u0e23\\u0e48\\u0e27\\u0e07\", \"\\u0e19\\u0e33\\u0e40\\u0e02\\u0e49\\u0e32\", \"\\u0e40\\u0e2b\\u0e21\\u0e37\\u0e2d\\u0e19\", \"\\u0e04\\u0e27\\u0e32\\u0e21\\u0e22\\u0e31\\u0e48\\u0e07\\u0e22\\u0e37\\u0e19\", \"\\u0e1b\\u0e23\\u0e30\\u0e40\\u0e17\\u0e28\", \"\\u0e14\\u0e35\\u0e01\\u0e27\\u0e48\\u0e32\", \"\\u0e40\\u0e1e\\u0e37\\u0e48\\u0e2d\\u0e19\\u0e1a\\u0e49\\u0e32\\u0e19\", \"\\u0e08\\u0e35\\u0e19\", \"\\u0e41\\u0e1a\\u0e23\\u0e19\\u0e14\\u0e4c\", \"\\u0e02\\u0e22\\u0e32\\u0e22\", \"\\u0e15\\u0e49\\u0e19\\u0e17\\u0e38\\u0e19\", \"\\u0e2d\\u0e23\\u0e48\\u0e2d\\u0e22\", \"\\u0e25\\u0e14\", \"\\u0e23\\u0e31\\u0e01\\u0e29\\u0e32\", \"\\u0e2d\\u0e35\\u0e01\\u0e41\\u0e25\\u0e49\\u0e27\", \"\\u0e1a\\u0e32\\u0e07\\u0e1b\\u0e23\\u0e30\\u0e01\\u0e32\\u0e23\", \"\\u0e43\\u0e08\", \"\\u0e21\\u0e32\\u0e15\\u0e23\\u0e10\\u0e32\\u0e19\", \"\\u0e02\\u0e32\\u0e22\", \"\\u0e15\\u0e31\\u0e27\\u0e40\\u0e2d\\u0e07\", \"\\u0e1a\\u0e23\\u0e34\\u0e01\\u0e32\\u0e23\", \"\\u0e04\\u0e27\\u0e32\\u0e21\\u0e2a\\u0e30\\u0e2d\\u0e32\\u0e14\", \"1\", \"\\u0e43\\u0e2b\\u0e49\\u0e44\\u0e14\\u0e49\", \"\\u0e25\\u0e39\\u0e01\\u0e04\\u0e49\\u0e32\"], \"Freq\": [3.0, 3.0, 5.0, 2.0, 2.0, 2.0, 2.0, 1.0, 1.0, 2.0, 1.0, 1.0, 1.0, 1.0, 1.0, 1.0, 2.0, 1.0, 1.0, 1.0, 2.0, 3.0, 2.0, 3.0, 5.0, 1.0, 1.0, 1.0, 1.0, 1.0, 5.047020699546611, 2.262447776668484, 1.5663084534195024, 1.56630808127945, 1.5663071509293192, 1.5663065927192408, 1.5663062205791882, 1.5663049180890052, 1.56630175489856, 2.262456894099767, 3.6547439137489084, 0.8701639202097876, 0.8701639202097876, 0.8701639202097876, 0.8701639202097876, 0.8701638271747746, 0.8701638271747746, 0.8701638271747746, 0.8701638271747746, 0.8701638271747746, 0.8701638271747746, 0.8701638271747746, 0.8701638271747746, 0.8701638271747746, 0.8701638271747746, 0.8701638271747746, 0.8701638271747746, 0.8701638271747746, 0.8701638271747746, 0.8701638271747746, 1.5663108723298427, 1.5663095698396594, 1.5663125469600783, 0.8701709908707823, 0.8701656878750363, 0.8701655948400232, 0.8701655948400232, 0.8701655948400232, 0.8701655948400232, 0.8701649435949317, 0.8701641993148269, 2.9598397247598296, 1.832235896464329, 2.9598359629859945, 1.2684862291753973, 0.7048031243846008, 0.704802758656589, 0.7047504595509115, 0.7047453916056061, 0.7047295085605253, 0.7047244406152199, 0.7047233434311847, 0.7047208878288201, 0.7047196861510674, 0.7047164468458206, 0.7047138345028797, 0.704713730009162, 0.7047131030468562, 0.7047129463062798, 0.7047112221599388, 0.7047098637416095, 0.7047082440889861, 0.7047079306078332, 0.7047079306078332, 0.7047058407334804, 0.7047053182648922, 0.7047049002900216, 0.7047046390557276, 0.7047041165871394, 0.7047036986122689, 0.7047032283905394, 0.7048144619529644, 0.7048015569788362, 0.7048011390039657, 0.704801034510248, 0.7047469590113707, 0.7047336883092308, 0.7047225597283024, 0.7047147226994795, 0.7047099682353271, 1.8157835604586314, 1.8156912973362223, 1.8155408059321148, 1.2570986772652528, 1.2570978571486093, 1.2570773542325182, 1.2569590524066736, 1.2569496210652717, 0.6984080532553687, 0.6984049265606649, 0.698390061946499, 0.6983895493735967, 0.698387601596568, 0.6983850387320567, 0.698383757299801, 0.6983819632946431, 0.6983797592311632, 0.6983795029447121, 0.6983779139687151, 0.6983775039103932, 0.6983769400802008, 0.6983764787645887, 0.6983746847594308, 0.6983740184146577, 0.6983725832105314, 0.6983712505209855, 0.6983705841762126, 0.6983658172482214, 0.6983656634763508, 0.6983613578639716, 1.257137222747504, 1.257086067971857, 1.2568491567764262, 0.6984855542781925, 0.698469869547383, 0.6983750948177525, 1.06272133077739, 1.062720459781848, 0.590398340050645, 0.5903982311762022, 0.5903981223017595, 0.5903980134273167, 0.5903980134273167, 0.5903980134273167, 0.5903980134273167, 0.5903980134273167, 0.5903979408443549, 0.5903978319699121, 0.5903977956784312, 0.5903977956784312, 0.5903977956784312, 0.5903977230954693, 0.5903976868039884, 0.5903975779295457, 0.590397432763622, 0.5903973238891793, 0.5903972150147365, 0.5903971061402938, 0.5903971061402938, 0.590344737533331, 0.5903386768560179, 0.5903279708691476, 1.0627730098462154, 0.590397904552874, 0.5903975053465839, 0.5903506167532395, 0.5904372082267068, 0.5903977956784312, 0.5903968158084465, 0.59039616256179], \"Total\": [3.0, 3.0, 5.0, 2.0, 2.0, 2.0, 2.0, 1.0, 1.0, 2.0, 1.0, 1.0, 1.0, 1.0, 1.0, 1.0, 2.0, 1.0, 1.0, 1.0, 2.0, 3.0, 2.0, 3.0, 5.0, 1.0, 1.0, 1.0, 1.0, 1.0, 5.4457546025705375, 2.6611803614238196, 1.965037675291226, 1.9650374536096396, 1.9650372360804254, 1.9650371276557788, 1.9650369804585395, 1.9650365674990455, 1.9650358375535475, 3.1335093831951353, 5.0896305280867145, 1.2688927096329066, 1.2688927136217512, 1.2688927488180508, 1.268892764631649, 1.268892682259472, 1.2688926948264023, 1.268892707040328, 1.2688927134669272, 1.2688927134669272, 1.2688927214446162, 1.2688927345063308, 1.2688927390955722, 1.2688927475680456, 1.2688927497195324, 1.2688927513094979, 1.2688927542420367, 1.2688927625727306, 1.2688927654663937, 1.2688927654663937, 2.5288803462828082, 3.082460665827299, 3.0876108943944875, 2.3863644691200308, 1.8327353797047647, 1.74121962224572, 1.8327353096631407, 1.7412115232449359, 1.8275990225901668, 1.8276035811170812, 1.8327346377335842, 3.3920098150356344, 2.2643082911566776, 3.8643285633207887, 1.700457545401087, 1.1366070757550628, 1.1366071679058263, 1.1366066128698262, 1.1366066968738229, 1.136606513525361, 1.136606427420117, 1.1366064714907158, 1.1366064377953145, 1.1366064038108799, 1.136606302424694, 1.1366063877606778, 1.1366063970376883, 1.1366063002023907, 1.136606325605451, 1.136606302240963, 1.1366062597379998, 1.1366062487970794, 1.1366062534923906, 1.136606304156369, 1.1366063004600868, 1.136606293714219, 1.1366062737933869, 1.136606263295721, 1.1366062867299898, 1.1366062403704735, 1.1366062738353906, 2.254079137386159, 2.5288803462828082, 1.8327353797047647, 1.8327353096631407, 3.0876108943944875, 1.6089337435759565, 5.0896305280867145, 1.6089247740403758, 1.832734449802368, 2.2489758761107277, 2.2489534739206265, 2.2489267121718446, 1.6902360784794068, 1.690236186597868, 1.6902367718176237, 1.6902047127416677, 1.6902091844421396, 1.1314941445934572, 1.1314942117142748, 1.131495841004024, 1.1314958956477215, 1.131495527993253, 1.1314958129944277, 1.1314957155398517, 1.1314956567983951, 1.13149607644, 1.1314958882189003, 1.1314961273745208, 1.1314958824849315, 1.1314961115673767, 1.1314959911096383, 1.1314954730232167, 1.1314959759611865, 1.1314959434445593, 1.1314965136841424, 1.1314960081569765, 1.1314959266707152, 1.1314961578298037, 1.1314965997314954, 2.254079137386159, 2.3863644691200308, 3.082460665827299, 2.167647863536163, 3.0876108943944875, 1.6038140364133175, 1.517407723395624, 1.517407818308668, 1.045082608664178, 1.0450826886971278, 1.0450826665149044, 1.0450826337842205, 1.0450826620574594, 1.0450827043546718, 1.0450827109968723, 1.0450827231457387, 1.0450827116929935, 1.045082709264096, 1.0450826931193, 1.0450827338554394, 1.0450827401068856, 1.0450828028041343, 1.045082847695603, 1.045082915656407, 1.0450828787370203, 1.0450829304967317, 1.0450829896434244, 1.0450828740081237, 1.0450829114121123, 1.0450924481813757, 1.0450935736944236, 1.0450955377530928, 2.0761289119206205, 1.6038140364133175, 1.6089247740403758, 1.6089337435759565, 2.167647863536163, 3.8643285633207887, 1.7412115232449359, 5.0896305280867145], \"Category\": [\"Default\", \"Default\", \"Default\", \"Default\", \"Default\", \"Default\", \"Default\", \"Default\", \"Default\", \"Default\", \"Default\", \"Default\", \"Default\", \"Default\", \"Default\", \"Default\", \"Default\", \"Default\", \"Default\", \"Default\", \"Default\", \"Default\", \"Default\", \"Default\", \"Default\", \"Default\", \"Default\", \"Default\", \"Default\", \"Default\", \"Topic1\", \"Topic1\", \"Topic1\", \"Topic1\", \"Topic1\", \"Topic1\", \"Topic1\", \"Topic1\", \"Topic1\", \"Topic1\", \"Topic1\", \"Topic1\", \"Topic1\", \"Topic1\", \"Topic1\", \"Topic1\", \"Topic1\", \"Topic1\", \"Topic1\", \"Topic1\", \"Topic1\", \"Topic1\", \"Topic1\", \"Topic1\", \"Topic1\", \"Topic1\", \"Topic1\", \"Topic1\", \"Topic1\", \"Topic1\", \"Topic1\", \"Topic1\", \"Topic1\", \"Topic1\", \"Topic1\", \"Topic1\", \"Topic1\", \"Topic1\", \"Topic1\", \"Topic1\", \"Topic1\", \"Topic2\", \"Topic2\", \"Topic2\", \"Topic2\", \"Topic2\", \"Topic2\", \"Topic2\", \"Topic2\", \"Topic2\", \"Topic2\", \"Topic2\", \"Topic2\", \"Topic2\", \"Topic2\", \"Topic2\", \"Topic2\", \"Topic2\", \"Topic2\", \"Topic2\", \"Topic2\", \"Topic2\", \"Topic2\", \"Topic2\", \"Topic2\", \"Topic2\", \"Topic2\", \"Topic2\", \"Topic2\", \"Topic2\", \"Topic2\", \"Topic2\", \"Topic2\", \"Topic2\", \"Topic2\", \"Topic2\", \"Topic2\", \"Topic2\", \"Topic2\", \"Topic2\", \"Topic3\", \"Topic3\", \"Topic3\", \"Topic3\", \"Topic3\", \"Topic3\", \"Topic3\", \"Topic3\", \"Topic3\", \"Topic3\", \"Topic3\", \"Topic3\", \"Topic3\", \"Topic3\", \"Topic3\", \"Topic3\", \"Topic3\", \"Topic3\", \"Topic3\", \"Topic3\", \"Topic3\", \"Topic3\", \"Topic3\", \"Topic3\", \"Topic3\", \"Topic3\", \"Topic3\", \"Topic3\", \"Topic3\", \"Topic3\", \"Topic3\", \"Topic3\", \"Topic3\", \"Topic3\", \"Topic3\", \"Topic3\", \"Topic4\", \"Topic4\", \"Topic4\", \"Topic4\", \"Topic4\", \"Topic4\", \"Topic4\", \"Topic4\", \"Topic4\", \"Topic4\", \"Topic4\", \"Topic4\", \"Topic4\", \"Topic4\", \"Topic4\", \"Topic4\", \"Topic4\", \"Topic4\", \"Topic4\", \"Topic4\", \"Topic4\", \"Topic4\", \"Topic4\", \"Topic4\", \"Topic4\", \"Topic4\", \"Topic4\", \"Topic4\", \"Topic4\", \"Topic4\", \"Topic4\", \"Topic4\", \"Topic4\", \"Topic4\"], \"logprob\": [30.0, 29.0, 28.0, 27.0, 26.0, 25.0, 24.0, 23.0, 22.0, 21.0, 20.0, 19.0, 18.0, 17.0, 16.0, 15.0, 14.0, 13.0, 12.0, 11.0, 10.0, 9.0, 8.0, 7.0, 6.0, 5.0, 4.0, 3.0, 2.0, 1.0, -2.9853, -3.7877, -4.1554, -4.1554, -4.1554, -4.1554, -4.1554, -4.1554, -4.1554, -3.7877, -3.3081, -4.7432, -4.7432, -4.7432, -4.7432, -4.7432, -4.7432, -4.7432, -4.7432, -4.7432, -4.7432, -4.7432, -4.7432, -4.7432, -4.7432, -4.7432, -4.7432, -4.7432, -4.7432, -4.7432, -4.1554, -4.1554, -4.1554, -4.7432, -4.7432, -4.7432, -4.7432, -4.7432, -4.7432, -4.7432, -4.7432, -2.942, -3.4216, -2.942, -3.7893, -4.377, -4.377, -4.377, -4.377, -4.3771, -4.3771, -4.3771, -4.3771, -4.3771, -4.3771, -4.3771, -4.3771, -4.3771, -4.3771, -4.3771, -4.3771, -4.3771, -4.3771, -4.3771, -4.3771, -4.3771, -4.3771, -4.3771, -4.3771, -4.3771, -4.3771, -4.377, -4.377, -4.377, -4.377, -4.377, -4.3771, -4.3771, -4.3771, -4.3771, -3.4115, -3.4115, -3.4116, -3.7792, -3.7792, -3.7792, -3.7793, -3.7793, -4.367, -4.367, -4.367, -4.367, -4.367, -4.367, -4.367, -4.367, -4.367, -4.367, -4.367, -4.367, -4.367, -4.367, -4.367, -4.367, -4.367, -4.367, -4.367, -4.367, -4.367, -4.367, -3.7792, -3.7792, -3.7794, -4.3668, -4.3669, -4.367, -3.6019, -3.6019, -4.1897, -4.1897, -4.1897, -4.1897, -4.1897, -4.1897, -4.1897, -4.1897, -4.1897, -4.1897, -4.1897, -4.1897, -4.1897, -4.1897, -4.1897, -4.1897, -4.1897, -4.1897, -4.1897, -4.1897, -4.1897, -4.1898, -4.1898, -4.1898, -3.6019, -4.1897, -4.1897, -4.1898, -4.1896, -4.1897, -4.1897, -4.1897], \"loglift\": [30.0, 29.0, 28.0, 27.0, 26.0, 25.0, 24.0, 23.0, 22.0, 21.0, 20.0, 19.0, 18.0, 17.0, 16.0, 15.0, 14.0, 13.0, 12.0, 11.0, 10.0, 9.0, 8.0, 7.0, 6.0, 5.0, 4.0, 3.0, 2.0, 1.0, 0.8413, 0.755, 0.6905, 0.6905, 0.6905, 0.6905, 0.6905, 0.6905, 0.6905, 0.5916, 0.5862, 0.5401, 0.5401, 0.5401, 0.5401, 0.5401, 0.5401, 0.5401, 0.5401, 0.5401, 0.5401, 0.5401, 0.5401, 0.5401, 0.5401, 0.5401, 0.5401, 0.5401, 0.5401, 0.5401, 0.4383, 0.2403, 0.2387, -0.0915, 0.1725, 0.2237, 0.1725, 0.2237, 0.1753, 0.1753, 0.1725, 1.358, 1.2826, 1.2277, 1.2013, 1.0164, 1.0164, 1.0164, 1.0164, 1.0163, 1.0163, 1.0163, 1.0163, 1.0163, 1.0163, 1.0163, 1.0163, 1.0163, 1.0163, 1.0163, 1.0163, 1.0163, 1.0163, 1.0163, 1.0163, 1.0163, 1.0163, 1.0163, 1.0163, 1.0163, 1.0163, 0.3318, 0.2167, 0.5387, 0.5387, 0.017, 0.6688, -0.4828, 0.6688, 0.5386, 1.2995, 1.2995, 1.2994, 1.2174, 1.2174, 1.2174, 1.2173, 1.2173, 1.031, 1.031, 1.0309, 1.0309, 1.0309, 1.0309, 1.0309, 1.0309, 1.0309, 1.0309, 1.0309, 1.0309, 1.0309, 1.0309, 1.0309, 1.0309, 1.0309, 1.0309, 1.0309, 1.0309, 1.0309, 1.0309, 0.9295, 0.8725, 0.6163, 0.381, 0.0272, 0.6821, 1.5026, 1.5026, 1.2877, 1.2877, 1.2877, 1.2877, 1.2877, 1.2877, 1.2877, 1.2877, 1.2877, 1.2877, 1.2877, 1.2877, 1.2877, 1.2877, 1.2877, 1.2877, 1.2877, 1.2877, 1.2877, 1.2877, 1.2877, 1.2876, 1.2876, 1.2875, 1.1891, 0.8594, 0.8562, 0.8561, 0.5582, -0.02, 0.7772, -0.2954]}, \"token.table\": {\"Topic\": [3, 2, 2, 4, 3, 3, 3, 1, 3, 4, 4, 1, 4, 2, 4, 4, 1, 1, 2, 2, 1, 3, 4, 3, 4, 2, 1, 1, 4, 4, 2, 3, 4, 3, 1, 2, 2, 2, 1, 2, 4, 1, 2, 3, 2, 3, 1, 4, 1, 3, 2, 4, 1, 2, 4, 3, 1, 1, 3, 3, 4, 1, 1, 1, 1, 1, 3, 4, 2, 3, 2, 2, 4, 1, 4, 2, 3, 4, 3, 2, 2, 1, 2, 3, 3, 4, 3, 3, 1, 1, 4, 3, 4, 1, 2, 3, 1, 4, 1, 2, 4, 2, 1, 2, 4, 2, 2, 1, 1, 3, 2, 1, 3, 1, 4, 1, 2, 4, 1, 2, 3, 3, 4, 2, 2, 1, 3, 3, 3, 4, 4, 1, 3, 3, 3, 4, 1, 3, 2, 1, 4, 4, 3, 2, 3, 1, 2, 2, 3, 4, 1, 4, 1, 2, 2, 1, 2, 2], \"Freq\": [0.8837857710565291, 0.5880770165091831, 0.7763315025733648, 0.25877716752445495, 0.8837857074094657, 0.889302523681549, 0.8837859359660825, 0.7880886929106511, 0.8837857952878857, 0.9568620845176079, 0.9568621089084907, 0.7880886879558379, 0.9568620701817949, 0.8798121015799528, 0.9568621048273204, 0.9568621577945857, 0.788088671731, 0.7880886694072446, 0.8798121262659783, 0.8798121416860847, 0.5471659743956029, 0.5471659743956029, 0.9568619105199553, 0.6235136850631047, 0.6235136850631047, 0.8798118792174654, 0.7880886675858925, 0.6382620108705934, 0.3191310054352967, 0.9568620804687331, 0.46132954379807034, 0.46132954379807034, 0.46132954379807034, 0.5916427441080638, 0.7908638314737954, 0.3954319157368977, 0.8798119561169374, 0.8798120462864519, 0.5456325070567961, 0.5456325070567961, 0.9568619389410035, 1.0177923053457005, 0.44364014706227434, 0.44364014706227434, 0.8798119886546576, 0.8837852453443522, 0.5743100911706132, 0.5743100911706132, 0.4190474728148919, 0.4190474728148919, 0.8832719501187443, 0.9568620374476046, 0.7880886969021077, 0.621533098461013, 0.621533098461013, 0.8837857579548607, 0.7880886929106511, 0.7880887122930961, 0.8837856142913726, 0.8837857207247527, 0.9568618631295569, 0.7880886703947464, 1.0177924180150975, 1.0177931423835926, 0.7880886606146268, 0.788088670954642, 0.8892936652831978, 0.9568620634629376, 0.87981216755774, 0.8837871629987951, 0.8798120534675005, 0.6215296335183058, 0.6215296335183058, 0.7880886928144925, 0.9568521184806285, 0.8798114495815454, 0.5916333302384799, 0.9568620431713348, 0.8837860824545503, 0.8798115209125256, 0.8798121195234664, 0.7515462044556551, 0.879812119665687, 0.8837858055690426, 0.4816656587451032, 0.4816656587451032, 0.8837856266379696, 0.591644309391321, 0.9181464030053558, 1.017792764307411, 0.9568618806031414, 0.8837861253904296, 0.9568620529769758, 0.6477500139771403, 0.32387500698857014, 0.32387500698857014, 0.7880886606146268, 0.9568619148496608, 0.7859116644963369, 0.19647791612408422, 0.19647791612408422, 0.8798120147372285, 1.0177924741737225, 0.8798121498120067, 0.659018615782947, 0.8798121416535708, 0.8798121210442086, 1.01779255041465, 0.6488322858981955, 0.32441614294909776, 0.8798121212436832, 0.7880887044879791, 0.5916330875494051, 0.7880886624118338, 0.9568618089757576, 0.7880886798434189, 0.8798121181830297, 0.9568620641002956, 0.5456325279092273, 0.5456325279092273, 0.8837858379688412, 0.8893131061921311, 0.9568531489631912, 0.8798121316722562, 0.879812157400465, 0.7880886952918992, 0.5916332923937776, 0.8837859818477196, 0.8837858010903695, 0.9568621347950474, 0.9568619800429501, 0.7880886611330732, 0.8837871105720868, 0.8837857325568632, 0.8837856540751577, 0.9568620656867997, 0.5471646096188828, 0.5471646096188828, 0.879812161034962, 1.0177921905256053, 0.65901865700421, 0.9568618767171303, 0.8837855905034518, 0.8798118141925854, 0.8837853125539107, 0.5456327279527114, 0.5456327279527114, 0.8798121525659299, 0.8837858598465046, 0.9568503202587142, 0.5743127624933195, 0.5743127624933195, 0.5456327839026731, 0.5456327839026731, 0.8798120227683491, 0.7880886769931155, 0.8844314030879312, 0.8798120410435327], \"Term\": [\"%\", \"...\", \"1\", \"1\", \"24\", \"3\", \"30\", \"55\", \"MK\", \"Segment\", \"brand\", \"challenge\", \"iberry\", \"market\", \"mk\", \"segment\", \"social\", \"\\u0e01\\u0e23\\u0e30\\u0e08\\u0e38\\u0e01\", \"\\u0e01\\u0e32\\u0e23\\u0e0a\\u0e19\\u0e30\", \"\\u0e01\\u0e32\\u0e23\\u0e15\\u0e25\\u0e32\\u0e14\", \"\\u0e01\\u0e34\\u0e19\", \"\\u0e01\\u0e34\\u0e19\", \"\\u0e02\\u0e22\\u0e32\\u0e22\", \"\\u0e02\\u0e32\\u0e22\", \"\\u0e02\\u0e32\\u0e22\", \"\\u0e02\\u0e32\\u0e22\\u0e14\\u0e35\", \"\\u0e02\\u0e49\\u0e2d\\u0e21\\u0e39\\u0e25\", \"\\u0e04\\u0e19\", \"\\u0e04\\u0e19\", \"\\u0e04\\u0e27\\u0e32\\u0e21\\u0e22\\u0e31\\u0e48\\u0e07\\u0e22\\u0e37\\u0e19\", \"\\u0e04\\u0e27\\u0e32\\u0e21\\u0e2a\\u0e30\\u0e2d\\u0e32\\u0e14\", \"\\u0e04\\u0e27\\u0e32\\u0e21\\u0e2a\\u0e30\\u0e2d\\u0e32\\u0e14\", \"\\u0e04\\u0e27\\u0e32\\u0e21\\u0e2a\\u0e30\\u0e2d\\u0e32\\u0e14\", \"\\u0e04\\u0e27\\u0e32\\u0e21\\u0e2b\\u0e25\\u0e32\\u0e01\\u0e2b\\u0e25\\u0e32\\u0e22\", \"\\u0e04\\u0e34\\u0e27\", \"\\u0e04\\u0e34\\u0e27\", \"\\u0e04\\u0e38\\u0e13\\u0e20\\u0e32\\u0e1e\", \"\\u0e04\\u0e39\\u0e48\\u0e41\\u0e02\\u0e48\\u0e07\", \"\\u0e08\\u0e2d\\u0e07\", \"\\u0e08\\u0e2d\\u0e07\", \"\\u0e08\\u0e35\\u0e19\", \"\\u0e08\\u0e48\\u0e32\\u0e22\", \"\\u0e0a\\u0e19\\u0e30\", \"\\u0e0a\\u0e19\\u0e30\", \"\\u0e0a\\u0e19\\u0e30\\u0e40\\u0e25\\u0e34\\u0e28\", \"\\u0e0a\\u0e21.\", \"\\u0e0a\\u0e2d\\u0e1a\", \"\\u0e0a\\u0e2d\\u0e1a\", \"\\u0e0a\\u0e48\\u0e27\\u0e07\\u0e40\\u0e27\\u0e25\\u0e32\", \"\\u0e0a\\u0e48\\u0e27\\u0e07\\u0e40\\u0e27\\u0e25\\u0e32\", \"\\u0e14\\u0e35\", \"\\u0e14\\u0e35\\u0e01\\u0e27\\u0e48\\u0e32\", \"\\u0e14\\u0e39\", \"\\u0e15\\u0e31\\u0e27\\u0e40\\u0e2d\\u0e07\", \"\\u0e15\\u0e31\\u0e27\\u0e40\\u0e2d\\u0e07\", \"\\u0e15\\u0e31\\u0e49\\u0e07\\u0e0a\\u0e37\\u0e48\\u0e2d\", \"\\u0e15\\u0e32\\u0e21\\u0e01\\u0e33\\u0e25\\u0e31\\u0e07\", \"\\u0e15\\u0e34\\u0e14\\u0e1b\\u0e49\\u0e32\\u0e22\", \"\\u0e15\\u0e35\\u0e49\", \"\\u0e15\\u0e48\\u0e32\\u0e07\\u0e01\\u0e31\\u0e19\", \"\\u0e15\\u0e49\\u0e19\\u0e17\\u0e38\\u0e19\", \"\\u0e16\\u0e39\\u0e01\\u0e43\\u0e08\", \"\\u0e17\\u0e32\\u0e19\", \"\\u0e17\\u0e33\", \"\\u0e17\\u0e33\\u0e01\\u0e33\\u0e44\\u0e23\", \"\\u0e17\\u0e33\\u0e40\\u0e1b\\u0e47\\u0e19\", \"\\u0e18\\u0e35\\u0e21\", \"\\u0e19\\u0e33\\u0e40\\u0e02\\u0e49\\u0e32\", \"\\u0e19\\u0e34\\u0e04\", \"\\u0e19\\u0e49\\u0e33\\u0e08\\u0e34\\u0e49\\u0e21\", \"\\u0e1a\\u0e23\\u0e23\\u0e22\\u0e32\\u0e01\\u0e32\\u0e28\", \"\\u0e1a\\u0e23\\u0e34\\u0e01\\u0e32\\u0e23\", \"\\u0e1a\\u0e23\\u0e34\\u0e01\\u0e32\\u0e23\", \"\\u0e1a\\u0e23\\u0e34\\u0e08\\u0e32\\u0e04\", \"\\u0e1a\\u0e32\\u0e07\\u0e1b\\u0e23\\u0e30\\u0e01\\u0e32\\u0e23\", \"\\u0e1a\\u0e38\\u0e1f\\u0e40\\u0e1f\\u0e15\\u0e4c\", \"\\u0e1a\\u0e48\\u0e32\\u0e22\", \"\\u0e1b\\u0e23\\u0e30\\u0e40\\u0e17\\u0e28\", \"\\u0e1b\\u0e31\\u0e01\\u0e01\\u0e34\\u0e48\\u0e07\", \"\\u0e1b\\u0e35\", \"\\u0e1c\\u0e31\\u0e01\", \"\\u0e1f\\u0e23\\u0e35\", \"\\u0e20\\u0e32\\u0e0a\\u0e19\\u0e30\", \"\\u0e21\\u0e13\\u0e11\\u0e25\", \"\\u0e21\\u0e32\\u0e15\\u0e23\\u0e10\\u0e32\\u0e19\", \"\\u0e21\\u0e32\\u0e15\\u0e23\\u0e10\\u0e32\\u0e19\", \"\\u0e22\\u0e35\\u0e48\", \"\\u0e23\\u0e2a\\u0e0a\\u0e32\\u0e15\\u0e34\", \"\\u0e23\\u0e2d\", \"\\u0e23\\u0e30\\u0e1a\\u0e1a\", \"\\u0e23\\u0e31\\u0e01\\u0e29\\u0e32\", \"\\u0e23\\u0e39\\u0e1b\", \"\\u0e23\\u0e48\\u0e27\\u0e07\", \"\\u0e23\\u0e49\\u0e32\\u0e19\", \"\\u0e23\\u0e49\\u0e32\\u0e19\", \"\\u0e23\\u0e49\\u0e32\\u0e19\", \"\\u0e25\\u0e07\\u0e17\\u0e30\\u0e40\\u0e1a\\u0e35\\u0e22\\u0e19\", \"\\u0e25\\u0e14\", \"\\u0e25\\u0e39\\u0e01\\u0e04\\u0e49\\u0e32\", \"\\u0e25\\u0e39\\u0e01\\u0e04\\u0e49\\u0e32\", \"\\u0e25\\u0e39\\u0e01\\u0e04\\u0e49\\u0e32\", \"\\u0e25\\u0e39\\u0e01\\u0e19\\u0e49\\u0e2d\\u0e07\", \"\\u0e25\\u0e48\\u0e27\\u0e07\\u0e2b\\u0e19\\u0e49\\u0e32\", \"\\u0e27\\u0e08\\u0e30\", \"\\u0e27\\u0e31\\u0e15\\u0e16\\u0e38\\u0e14\\u0e34\\u0e1a\", \"\\u0e2a\\u0e27\\u0e48\\u0e32\\u0e07\", \"\\u0e2a\\u0e30\\u0e2d\\u0e32\\u0e14\", \"\\u0e2a\\u0e31\\u0e48\\u0e07\", \"\\u0e2a\\u0e32\\u0e02\\u0e32\", \"\\u0e2a\\u0e32\\u0e02\\u0e32\", \"\\u0e2a\\u0e32\\u0e23\", \"\\u0e2b\\u0e19\\u0e49\\u0e32\", \"\\u0e2b\\u0e31\\u0e27\\u0e04\\u0e48\\u0e33\", \"\\u0e2b\\u0e32\\u0e17\\u0e32\\u0e07\", \"\\u0e2d\\u0e23\\u0e48\\u0e2d\\u0e22\", \"\\u0e2d\\u0e27\\u0e14\", \"\\u0e2d\\u0e2d\", \"\\u0e2d\\u0e2d\\u0e01\\u0e21\\u0e32\", \"\\u0e2d\\u0e2d\\u0e19\\u0e44\\u0e25\\u0e19\\u0e4c\", \"\\u0e2d\\u0e2d\\u0e19\\u0e44\\u0e25\\u0e19\\u0e4c\", \"\\u0e2d\\u0e32\\u0e23\\u0e21\\u0e13\\u0e4c\", \"\\u0e2d\\u0e32\\u0e2b\\u0e32\\u0e23\", \"\\u0e2d\\u0e35\\u0e01\\u0e41\\u0e25\\u0e49\\u0e27\", \"\\u0e40\", \"\\u0e40\\u0e01\", \"\\u0e40\\u0e07\\u0e34\\u0e19\", \"\\u0e40\\u0e0a\\u0e49\\u0e32\", \"\\u0e40\\u0e0b\\u0e35\\u0e22\\u0e07\\u0e44\\u0e2e\\u0e49\", \"\\u0e40\\u0e17\\u0e04\\u0e42\\u0e19\", \"\\u0e40\\u0e1a\\u0e2d\\u0e23\\u0e4c\", \"\\u0e40\\u0e1e\\u0e37\\u0e48\\u0e2d\\u0e19\\u0e1a\\u0e49\\u0e32\\u0e19\", \"\\u0e40\\u0e1e\\u0e49\\u0e2d\", \"\\u0e40\\u0e25\\u0e37\\u0e2d\\u0e01\", \"\\u0e40\\u0e27\\u0e25\\u0e32\\u0e40\\u0e1b\\u0e34\\u0e14\", \"\\u0e40\\u0e2a\\u0e09\\u0e27\\u0e19\", \"\\u0e40\\u0e2b\\u0e21\\u0e37\\u0e2d\\u0e19\", \"\\u0e40\\u0e2b\\u0e21\\u0e37\\u0e2d\\u0e19\\u0e01\\u0e31\\u0e19\", \"\\u0e40\\u0e2b\\u0e21\\u0e37\\u0e2d\\u0e19\\u0e01\\u0e31\\u0e19\", \"\\u0e41\\u0e02\\u0e48\\u0e07\", \"\\u0e41\\u0e08\\u0e01\", \"\\u0e41\\u0e15\\u0e01\", \"\\u0e41\\u0e1a\\u0e23\\u0e19\\u0e14\\u0e4c\", \"\\u0e41\\u0e1a\\u0e48\\u0e07\", \"\\u0e41\\u0e25\\u0e49\", \"\\u0e41\\u0e2a\\u0e07\", \"\\u0e42\\u0e06\\u0e29\\u0e13\\u0e32\", \"\\u0e42\\u0e06\\u0e29\\u0e13\\u0e32\", \"\\u0e42\\u0e1b\\u0e23\\u0e42\\u0e21\\u0e15\", \"\\u0e42\\u0e25\", \"\\u0e43\\u0e08\", \"\\u0e43\\u0e2b\\u0e49\\u0e44\\u0e14\\u0e49\", \"\\u0e43\\u0e2b\\u0e49\\u0e44\\u0e14\\u0e49\", \"\\u0e44\\u0e21\\u0e48\\u0e15\\u0e49\\u0e2d\\u0e07\", \"\\u0e44\\u0e21\\u0e48\\u0e15\\u0e49\\u0e2d\\u0e07\", \"\\u0e44\\u0e23\\u0e49\", \"\\u0e44\\u0e2b\\u0e25\", \"\\u200b\", \"\\ud83d\\ude01\\ud83d\\ude0a\"]}, \"R\": 30, \"lambda.step\": 0.01, \"plot.opts\": {\"xlab\": \"PC1\", \"ylab\": \"PC2\"}, \"topic.order\": [3, 4, 1, 2]};\n",
              "\n",
              "function LDAvis_load_lib(url, callback){\n",
              "  var s = document.createElement('script');\n",
              "  s.src = url;\n",
              "  s.async = true;\n",
              "  s.onreadystatechange = s.onload = callback;\n",
              "  s.onerror = function(){console.warn(\"failed to load library \" + url);};\n",
              "  document.getElementsByTagName(\"head\")[0].appendChild(s);\n",
              "}\n",
              "\n",
              "if(typeof(LDAvis) !== \"undefined\"){\n",
              "   // already loaded: just create the visualization\n",
              "   !function(LDAvis){\n",
              "       new LDAvis(\"#\" + \"ldavis_el35841339275333038885037773104\", ldavis_el35841339275333038885037773104_data);\n",
              "   }(LDAvis);\n",
              "}else if(typeof define === \"function\" && define.amd){\n",
              "   // require.js is available: use it to load d3/LDAvis\n",
              "   require.config({paths: {d3: \"https://d3js.org/d3.v5\"}});\n",
              "   require([\"d3\"], function(d3){\n",
              "      window.d3 = d3;\n",
              "      LDAvis_load_lib(\"https://cdn.jsdelivr.net/gh/bmabey/pyLDAvis@3.4.0/pyLDAvis/js/ldavis.v3.0.0.js\", function(){\n",
              "        new LDAvis(\"#\" + \"ldavis_el35841339275333038885037773104\", ldavis_el35841339275333038885037773104_data);\n",
              "      });\n",
              "    });\n",
              "}else{\n",
              "    // require.js not available: dynamically load d3 & LDAvis\n",
              "    LDAvis_load_lib(\"https://d3js.org/d3.v5.js\", function(){\n",
              "         LDAvis_load_lib(\"https://cdn.jsdelivr.net/gh/bmabey/pyLDAvis@3.4.0/pyLDAvis/js/ldavis.v3.0.0.js\", function(){\n",
              "                 new LDAvis(\"#\" + \"ldavis_el35841339275333038885037773104\", ldavis_el35841339275333038885037773104_data);\n",
              "            })\n",
              "         });\n",
              "}\n",
              "</script>"
            ]
          },
          "metadata": {},
          "execution_count": 100
        }
      ]
    },
    {
      "cell_type": "markdown",
      "source": [
        "#PREDICT TOPICS"
      ],
      "metadata": {
        "id": "W--C-FkXw8n3"
      }
    },
    {
      "cell_type": "code",
      "source": [
        "model.show_topic(0)"
      ],
      "metadata": {
        "id": "YMhSadBky17K",
        "outputId": "1c4cb7c9-714d-4925-8727-48841c73a192",
        "colab": {
          "base_uri": "https://localhost:8080/"
        }
      },
      "execution_count": null,
      "outputs": [
        {
          "output_type": "execute_result",
          "data": {
            "text/plain": [
              "[('ธีม', 0.03299199),\n",
              " ('3', 0.032990314),\n",
              " ('อาหาร', 0.03298758),\n",
              " ('ชนะ', 0.022841632),\n",
              " ('บ่าย', 0.022840932),\n",
              " ('เช้า', 0.022840917),\n",
              " ('ช่วงเวลา', 0.022840703),\n",
              " ('หัวค่ำ', 0.022840545),\n",
              " ('รสชาติ', 0.022838395),\n",
              " ('ความหลากหลาย', 0.022838224)]"
            ]
          },
          "metadata": {},
          "execution_count": 109
        }
      ]
    },
    {
      "cell_type": "code",
      "source": [
        "model.show_topic(1)"
      ],
      "metadata": {
        "colab": {
          "base_uri": "https://localhost:8080/"
        },
        "id": "SIANMGl1wk20",
        "outputId": "d89b10bf-a4e3-4d13-f3da-b3128e86af55"
      },
      "execution_count": null,
      "outputs": [
        {
          "output_type": "execute_result",
          "data": {
            "text/plain": [
              "[('มาตรฐาน', 0.027273191),\n",
              " ('แตก', 0.027271865),\n",
              " ('วัตถุดิบ', 0.027271843),\n",
              " ('ความสะอาด', 0.015151972),\n",
              " ('segment', 0.0151509745),\n",
              " ('Segment', 0.015150972),\n",
              " ('mk', 0.015150969),\n",
              " ('iberry', 0.015150966),\n",
              " ('เบอร์', 0.015150966),\n",
              " ('ร่วง', 0.015150966)]"
            ]
          },
          "metadata": {},
          "execution_count": 105
        }
      ]
    },
    {
      "cell_type": "code",
      "source": [
        "model.show_topic(2)"
      ],
      "metadata": {
        "colab": {
          "base_uri": "https://localhost:8080/"
        },
        "id": "A1i5P9VGyhxf",
        "outputId": "5ec65ddb-1de0-496e-cb24-33acbb244589"
      },
      "execution_count": null,
      "outputs": [
        {
          "output_type": "execute_result",
          "data": {
            "text/plain": [
              "[('รอ', 0.050522953),\n",
              " ('ลูกค้า', 0.036585636),\n",
              " ('คน', 0.022648215),\n",
              " ('ฟรี', 0.022648124),\n",
              " ('ร้าน', 0.015679495),\n",
              " ('คิว', 0.015679479),\n",
              " ('สาขา', 0.015679466),\n",
              " ('แจก', 0.015679454),\n",
              " ('จ่าย', 0.01567945),\n",
              " ('ทาน', 0.015679441)]"
            ]
          },
          "metadata": {},
          "execution_count": 107
        }
      ]
    },
    {
      "cell_type": "code",
      "source": [
        "model.show_topic(3)"
      ],
      "metadata": {
        "colab": {
          "base_uri": "https://localhost:8080/"
        },
        "id": "ayv_TdE1ymTT",
        "outputId": "005a630b-2816-4add-c072-c2e1d5c25b85"
      },
      "execution_count": null,
      "outputs": [
        {
          "output_type": "execute_result",
          "data": {
            "text/plain": [
              "[('\\u200b', 0.052760396),\n",
              " ('1', 0.05276033),\n",
              " ('ดี', 0.03266038),\n",
              " ('...', 0.022611303),\n",
              " ('ชนะ', 0.012563616),\n",
              " ('ปี', 0.012563414),\n",
              " ('บุฟเฟต์', 0.012563407),\n",
              " ('คิว', 0.012563386),\n",
              " ('จอง', 0.012563379),\n",
              " ('ออนไลน์', 0.012563377)]"
            ]
          },
          "metadata": {},
          "execution_count": 108
        }
      ]
    },
    {
      "cell_type": "code",
      "source": [
        "df['topics'] = df['Comment_token'].apply(lambda x: model.get_document_topics(dictionary.doc2bow(x.split(',')))[0][0])\n",
        "df['score'] = df['Comment_token'].apply(lambda x: model.get_document_topics(dictionary.doc2bow(x.split(',')))[0][1])"
      ],
      "metadata": {
        "id": "g605fK-hxAWG"
      },
      "execution_count": null,
      "outputs": []
    },
    {
      "cell_type": "code",
      "source": [
        "df"
      ],
      "metadata": {
        "colab": {
          "base_uri": "https://localhost:8080/",
          "height": 520
        },
        "id": "IPrW_TfixFNt",
        "outputId": "8af9a735-2073-467a-bf50-55d2635f5f98"
      },
      "execution_count": null,
      "outputs": [
        {
          "output_type": "execute_result",
          "data": {
            "text/plain": [
              "    No.                                            Comment  \\\n",
              "0     1  เปิด24ชม.\\nแบ่ง3ช่วงเวลา 3ธีม ตั้งชื่อตามมณฑล ...   \n",
              "1     2  เบื่อเรื่องการรอคิวที่นานเกินไป คือเข้าใจว่าต้...   \n",
              "2     3                     มีน้ำจิ้มให้เลือกมากกว่านี้ค่ะ   \n",
              "3     4  เป็นเบอร์1 แล้ว ก็มีวันร่วง มองที่ความยั่งยืนด...   \n",
              "4     5                     ทำน้ำซุปหมาล่าให้เค็มน้อยลงค่ะ   \n",
              "5     6  ความสะอาด มาตรฐาน การบริการ จากใจคนเคยชอบแต่ด้...   \n",
              "6     7  จองคิวออนไลน์ ต้องมาก่อนเลยครับ\\nบุฟเฟต์ปีละ 1...   \n",
              "7     8  รักษามาตรฐานตัวเองให้ได้ และไม่เอาวัตถุดิบ ไม่...   \n",
              "8     9  ระบบการจองคิว ที่นั่งรอ ที่จอดรถ หลายๆสาขาไม่ม...   \n",
              "9    10  คิดค่าบริการเป็นนาที ทุกอย่างฟรีหมด แล้วทำเตาใ...   \n",
              "10   11  สร้างระบบสั่งเมนูล่วงหน้าออนไลน์รอ ไปถึงแล้วได...   \n",
              "11   12  ความสะอาด ความหลากหลายของอาหาร และแต่ละสาขาควร...   \n",
              "12   13  ไม่ต้องให้ขึ้นที่1แต่ให้ขายดีที่สุด... อย่างแข...   \n",
              "13   14  เอางบโฆษณา มาแจกให้กินฟรีครับ ช่วงเวลาหนึ่ง คน...   \n",
              "14   15  แตกแบรนด์ เก็บลูกค้าให้ครบทุก Segment\\nนำเข้าว...   \n",
              "\n",
              "                                        Comment_token  topics     score  \n",
              "0   24,ชม.,แบ่ง,3,ช่วงเวลา,3,ธีม,ตั้งชื่อ,มณฑล,เช้...       0  0.996316  \n",
              "1   เบื่อ,เรื่อง,รอ,คิว,เกินไป,รอ,ร้าน,รอ,ก,ไก่,ล้...       2  0.995371  \n",
              "2                                       น้ำจิ้ม,เลือก       0  0.933871  \n",
              "3   เบอร์,1,ร่วง,ความยั่งยืน,ดีกว่า,เหมือน,mk,iber...       1  0.988811  \n",
              "4                      ทำ,น้ำ,ซุป,หมา,ล่า,เค็ม,น้อยลง       2  0.983770  \n",
              "5   ความสะอาด,มาตรฐาน,บริการ,ใจ,คน,ชอบ,บางประการ,อ...       1  0.983342  \n",
              "6                        จอง,คิว,ออนไลน์,บุฟเฟต์,ปี,1       2  0.010740  \n",
              "7   รักษา,มาตรฐาน,ตัวเอง,ให้ได้,วัตถุดิบ,อร่อย,ลด,...       1  0.983342  \n",
              "8   ระบบ,จอง,คิว,ที่นั่ง,รอ,ที่จอดรถ,สาขา,ความสะดว...       2  0.988551  \n",
              "9                     ค่าบริการ,นาที,ฟรี,ทำ,เตา,เดือด       2  0.981145  \n",
              "10  สร้าง,ระบบ,สั่ง,เมนู,ล่วงหน้า,ออนไลน์,รอ,จุ่ม,...       2  0.991780  \n",
              "11  ความสะอาด,ความหลากหลาย,อาหาร,สาขา,ควรจะ,รสชาติ...       0  0.989822  \n",
              "12  ไม่ต้อง,1,ขายดี,...,แข่ง,แล้,วจะ,ชนะ,1,ลูกค้า,...       3  0.996977  \n",
              "13  งบ,โฆษณา,แจก,กิน,ฟรี,ช่วงเวลา,คน,ไหล,ลูกค้า,จ่...       2  0.996947  \n",
              "14  แตก,แบรนด์,ลูกค้า,Segment,นำเข้า,วัตถุดิบ,จีน,...       1  0.987811  "
            ],
            "text/html": [
              "\n",
              "  <div id=\"df-c2c86def-a642-4dbe-b921-3802b502bbce\" class=\"colab-df-container\">\n",
              "    <div>\n",
              "<style scoped>\n",
              "    .dataframe tbody tr th:only-of-type {\n",
              "        vertical-align: middle;\n",
              "    }\n",
              "\n",
              "    .dataframe tbody tr th {\n",
              "        vertical-align: top;\n",
              "    }\n",
              "\n",
              "    .dataframe thead th {\n",
              "        text-align: right;\n",
              "    }\n",
              "</style>\n",
              "<table border=\"1\" class=\"dataframe\">\n",
              "  <thead>\n",
              "    <tr style=\"text-align: right;\">\n",
              "      <th></th>\n",
              "      <th>No.</th>\n",
              "      <th>Comment</th>\n",
              "      <th>Comment_token</th>\n",
              "      <th>topics</th>\n",
              "      <th>score</th>\n",
              "    </tr>\n",
              "  </thead>\n",
              "  <tbody>\n",
              "    <tr>\n",
              "      <th>0</th>\n",
              "      <td>1</td>\n",
              "      <td>เปิด24ชม.\\nแบ่ง3ช่วงเวลา 3ธีม ตั้งชื่อตามมณฑล ...</td>\n",
              "      <td>24,ชม.,แบ่ง,3,ช่วงเวลา,3,ธีม,ตั้งชื่อ,มณฑล,เช้...</td>\n",
              "      <td>0</td>\n",
              "      <td>0.996316</td>\n",
              "    </tr>\n",
              "    <tr>\n",
              "      <th>1</th>\n",
              "      <td>2</td>\n",
              "      <td>เบื่อเรื่องการรอคิวที่นานเกินไป คือเข้าใจว่าต้...</td>\n",
              "      <td>เบื่อ,เรื่อง,รอ,คิว,เกินไป,รอ,ร้าน,รอ,ก,ไก่,ล้...</td>\n",
              "      <td>2</td>\n",
              "      <td>0.995371</td>\n",
              "    </tr>\n",
              "    <tr>\n",
              "      <th>2</th>\n",
              "      <td>3</td>\n",
              "      <td>มีน้ำจิ้มให้เลือกมากกว่านี้ค่ะ</td>\n",
              "      <td>น้ำจิ้ม,เลือก</td>\n",
              "      <td>0</td>\n",
              "      <td>0.933871</td>\n",
              "    </tr>\n",
              "    <tr>\n",
              "      <th>3</th>\n",
              "      <td>4</td>\n",
              "      <td>เป็นเบอร์1 แล้ว ก็มีวันร่วง มองที่ความยั่งยืนด...</td>\n",
              "      <td>เบอร์,1,ร่วง,ความยั่งยืน,ดีกว่า,เหมือน,mk,iber...</td>\n",
              "      <td>1</td>\n",
              "      <td>0.988811</td>\n",
              "    </tr>\n",
              "    <tr>\n",
              "      <th>4</th>\n",
              "      <td>5</td>\n",
              "      <td>ทำน้ำซุปหมาล่าให้เค็มน้อยลงค่ะ</td>\n",
              "      <td>ทำ,น้ำ,ซุป,หมา,ล่า,เค็ม,น้อยลง</td>\n",
              "      <td>2</td>\n",
              "      <td>0.983770</td>\n",
              "    </tr>\n",
              "    <tr>\n",
              "      <th>5</th>\n",
              "      <td>6</td>\n",
              "      <td>ความสะอาด มาตรฐาน การบริการ จากใจคนเคยชอบแต่ด้...</td>\n",
              "      <td>ความสะอาด,มาตรฐาน,บริการ,ใจ,คน,ชอบ,บางประการ,อ...</td>\n",
              "      <td>1</td>\n",
              "      <td>0.983342</td>\n",
              "    </tr>\n",
              "    <tr>\n",
              "      <th>6</th>\n",
              "      <td>7</td>\n",
              "      <td>จองคิวออนไลน์ ต้องมาก่อนเลยครับ\\nบุฟเฟต์ปีละ 1...</td>\n",
              "      <td>จอง,คิว,ออนไลน์,บุฟเฟต์,ปี,1</td>\n",
              "      <td>2</td>\n",
              "      <td>0.010740</td>\n",
              "    </tr>\n",
              "    <tr>\n",
              "      <th>7</th>\n",
              "      <td>8</td>\n",
              "      <td>รักษามาตรฐานตัวเองให้ได้ และไม่เอาวัตถุดิบ ไม่...</td>\n",
              "      <td>รักษา,มาตรฐาน,ตัวเอง,ให้ได้,วัตถุดิบ,อร่อย,ลด,...</td>\n",
              "      <td>1</td>\n",
              "      <td>0.983342</td>\n",
              "    </tr>\n",
              "    <tr>\n",
              "      <th>8</th>\n",
              "      <td>9</td>\n",
              "      <td>ระบบการจองคิว ที่นั่งรอ ที่จอดรถ หลายๆสาขาไม่ม...</td>\n",
              "      <td>ระบบ,จอง,คิว,ที่นั่ง,รอ,ที่จอดรถ,สาขา,ความสะดว...</td>\n",
              "      <td>2</td>\n",
              "      <td>0.988551</td>\n",
              "    </tr>\n",
              "    <tr>\n",
              "      <th>9</th>\n",
              "      <td>10</td>\n",
              "      <td>คิดค่าบริการเป็นนาที ทุกอย่างฟรีหมด แล้วทำเตาใ...</td>\n",
              "      <td>ค่าบริการ,นาที,ฟรี,ทำ,เตา,เดือด</td>\n",
              "      <td>2</td>\n",
              "      <td>0.981145</td>\n",
              "    </tr>\n",
              "    <tr>\n",
              "      <th>10</th>\n",
              "      <td>11</td>\n",
              "      <td>สร้างระบบสั่งเมนูล่วงหน้าออนไลน์รอ ไปถึงแล้วได...</td>\n",
              "      <td>สร้าง,ระบบ,สั่ง,เมนู,ล่วงหน้า,ออนไลน์,รอ,จุ่ม,...</td>\n",
              "      <td>2</td>\n",
              "      <td>0.991780</td>\n",
              "    </tr>\n",
              "    <tr>\n",
              "      <th>11</th>\n",
              "      <td>12</td>\n",
              "      <td>ความสะอาด ความหลากหลายของอาหาร และแต่ละสาขาควร...</td>\n",
              "      <td>ความสะอาด,ความหลากหลาย,อาหาร,สาขา,ควรจะ,รสชาติ...</td>\n",
              "      <td>0</td>\n",
              "      <td>0.989822</td>\n",
              "    </tr>\n",
              "    <tr>\n",
              "      <th>12</th>\n",
              "      <td>13</td>\n",
              "      <td>ไม่ต้องให้ขึ้นที่1แต่ให้ขายดีที่สุด... อย่างแข...</td>\n",
              "      <td>ไม่ต้อง,1,ขายดี,...,แข่ง,แล้,วจะ,ชนะ,1,ลูกค้า,...</td>\n",
              "      <td>3</td>\n",
              "      <td>0.996977</td>\n",
              "    </tr>\n",
              "    <tr>\n",
              "      <th>13</th>\n",
              "      <td>14</td>\n",
              "      <td>เอางบโฆษณา มาแจกให้กินฟรีครับ ช่วงเวลาหนึ่ง คน...</td>\n",
              "      <td>งบ,โฆษณา,แจก,กิน,ฟรี,ช่วงเวลา,คน,ไหล,ลูกค้า,จ่...</td>\n",
              "      <td>2</td>\n",
              "      <td>0.996947</td>\n",
              "    </tr>\n",
              "    <tr>\n",
              "      <th>14</th>\n",
              "      <td>15</td>\n",
              "      <td>แตกแบรนด์ เก็บลูกค้าให้ครบทุก Segment\\nนำเข้าว...</td>\n",
              "      <td>แตก,แบรนด์,ลูกค้า,Segment,นำเข้า,วัตถุดิบ,จีน,...</td>\n",
              "      <td>1</td>\n",
              "      <td>0.987811</td>\n",
              "    </tr>\n",
              "  </tbody>\n",
              "</table>\n",
              "</div>\n",
              "    <div class=\"colab-df-buttons\">\n",
              "\n",
              "  <div class=\"colab-df-container\">\n",
              "    <button class=\"colab-df-convert\" onclick=\"convertToInteractive('df-c2c86def-a642-4dbe-b921-3802b502bbce')\"\n",
              "            title=\"Convert this dataframe to an interactive table.\"\n",
              "            style=\"display:none;\">\n",
              "\n",
              "  <svg xmlns=\"http://www.w3.org/2000/svg\" height=\"24px\" viewBox=\"0 -960 960 960\">\n",
              "    <path d=\"M120-120v-720h720v720H120Zm60-500h600v-160H180v160Zm220 220h160v-160H400v160Zm0 220h160v-160H400v160ZM180-400h160v-160H180v160Zm440 0h160v-160H620v160ZM180-180h160v-160H180v160Zm440 0h160v-160H620v160Z\"/>\n",
              "  </svg>\n",
              "    </button>\n",
              "\n",
              "  <style>\n",
              "    .colab-df-container {\n",
              "      display:flex;\n",
              "      gap: 12px;\n",
              "    }\n",
              "\n",
              "    .colab-df-convert {\n",
              "      background-color: #E8F0FE;\n",
              "      border: none;\n",
              "      border-radius: 50%;\n",
              "      cursor: pointer;\n",
              "      display: none;\n",
              "      fill: #1967D2;\n",
              "      height: 32px;\n",
              "      padding: 0 0 0 0;\n",
              "      width: 32px;\n",
              "    }\n",
              "\n",
              "    .colab-df-convert:hover {\n",
              "      background-color: #E2EBFA;\n",
              "      box-shadow: 0px 1px 2px rgba(60, 64, 67, 0.3), 0px 1px 3px 1px rgba(60, 64, 67, 0.15);\n",
              "      fill: #174EA6;\n",
              "    }\n",
              "\n",
              "    .colab-df-buttons div {\n",
              "      margin-bottom: 4px;\n",
              "    }\n",
              "\n",
              "    [theme=dark] .colab-df-convert {\n",
              "      background-color: #3B4455;\n",
              "      fill: #D2E3FC;\n",
              "    }\n",
              "\n",
              "    [theme=dark] .colab-df-convert:hover {\n",
              "      background-color: #434B5C;\n",
              "      box-shadow: 0px 1px 3px 1px rgba(0, 0, 0, 0.15);\n",
              "      filter: drop-shadow(0px 1px 2px rgba(0, 0, 0, 0.3));\n",
              "      fill: #FFFFFF;\n",
              "    }\n",
              "  </style>\n",
              "\n",
              "    <script>\n",
              "      const buttonEl =\n",
              "        document.querySelector('#df-c2c86def-a642-4dbe-b921-3802b502bbce button.colab-df-convert');\n",
              "      buttonEl.style.display =\n",
              "        google.colab.kernel.accessAllowed ? 'block' : 'none';\n",
              "\n",
              "      async function convertToInteractive(key) {\n",
              "        const element = document.querySelector('#df-c2c86def-a642-4dbe-b921-3802b502bbce');\n",
              "        const dataTable =\n",
              "          await google.colab.kernel.invokeFunction('convertToInteractive',\n",
              "                                                    [key], {});\n",
              "        if (!dataTable) return;\n",
              "\n",
              "        const docLinkHtml = 'Like what you see? Visit the ' +\n",
              "          '<a target=\"_blank\" href=https://colab.research.google.com/notebooks/data_table.ipynb>data table notebook</a>'\n",
              "          + ' to learn more about interactive tables.';\n",
              "        element.innerHTML = '';\n",
              "        dataTable['output_type'] = 'display_data';\n",
              "        await google.colab.output.renderOutput(dataTable, element);\n",
              "        const docLink = document.createElement('div');\n",
              "        docLink.innerHTML = docLinkHtml;\n",
              "        element.appendChild(docLink);\n",
              "      }\n",
              "    </script>\n",
              "  </div>\n",
              "\n",
              "\n",
              "<div id=\"df-077f8cbe-3c2a-4b80-9391-24f0fe3555d1\">\n",
              "  <button class=\"colab-df-quickchart\" onclick=\"quickchart('df-077f8cbe-3c2a-4b80-9391-24f0fe3555d1')\"\n",
              "            title=\"Suggest charts.\"\n",
              "            style=\"display:none;\">\n",
              "\n",
              "<svg xmlns=\"http://www.w3.org/2000/svg\" height=\"24px\"viewBox=\"0 0 24 24\"\n",
              "     width=\"24px\">\n",
              "    <g>\n",
              "        <path d=\"M19 3H5c-1.1 0-2 .9-2 2v14c0 1.1.9 2 2 2h14c1.1 0 2-.9 2-2V5c0-1.1-.9-2-2-2zM9 17H7v-7h2v7zm4 0h-2V7h2v10zm4 0h-2v-4h2v4z\"/>\n",
              "    </g>\n",
              "</svg>\n",
              "  </button>\n",
              "\n",
              "<style>\n",
              "  .colab-df-quickchart {\n",
              "    background-color: #E8F0FE;\n",
              "    border: none;\n",
              "    border-radius: 50%;\n",
              "    cursor: pointer;\n",
              "    display: none;\n",
              "    fill: #1967D2;\n",
              "    height: 32px;\n",
              "    padding: 0 0 0 0;\n",
              "    width: 32px;\n",
              "  }\n",
              "\n",
              "  .colab-df-quickchart:hover {\n",
              "    background-color: #E2EBFA;\n",
              "    box-shadow: 0px 1px 2px rgba(60, 64, 67, 0.3), 0px 1px 3px 1px rgba(60, 64, 67, 0.15);\n",
              "    fill: #174EA6;\n",
              "  }\n",
              "\n",
              "  [theme=dark] .colab-df-quickchart {\n",
              "    background-color: #3B4455;\n",
              "    fill: #D2E3FC;\n",
              "  }\n",
              "\n",
              "  [theme=dark] .colab-df-quickchart:hover {\n",
              "    background-color: #434B5C;\n",
              "    box-shadow: 0px 1px 3px 1px rgba(0, 0, 0, 0.15);\n",
              "    filter: drop-shadow(0px 1px 2px rgba(0, 0, 0, 0.3));\n",
              "    fill: #FFFFFF;\n",
              "  }\n",
              "</style>\n",
              "\n",
              "  <script>\n",
              "    async function quickchart(key) {\n",
              "      const charts = await google.colab.kernel.invokeFunction(\n",
              "          'suggestCharts', [key], {});\n",
              "    }\n",
              "    (() => {\n",
              "      let quickchartButtonEl =\n",
              "        document.querySelector('#df-077f8cbe-3c2a-4b80-9391-24f0fe3555d1 button');\n",
              "      quickchartButtonEl.style.display =\n",
              "        google.colab.kernel.accessAllowed ? 'block' : 'none';\n",
              "    })();\n",
              "  </script>\n",
              "</div>\n",
              "    </div>\n",
              "  </div>\n"
            ]
          },
          "metadata": {},
          "execution_count": 103
        }
      ]
    }
  ]
}